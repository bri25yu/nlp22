{
  "cells": [
    {
      "cell_type": "markdown",
      "metadata": {
        "id": "WlFS_v7TpRHe"
      },
      "source": [
        "# Homework 3: Pytorch and CNNs\n",
        "\n",
        "In this homework, you will begin exploring Pytorch, a neural network library that will be used throughout the remainder of the semester.  This homework will focus on implementing a bag-of-words logistic regression and a convolutional neural networks.\n",
        "\n"
      ]
    },
    {
      "cell_type": "code",
      "execution_count": 1,
      "metadata": {
        "id": "wyY0yl1Jpf2o"
      },
      "outputs": [],
      "source": [
        "import numpy as np\n",
        "import nltk\n",
        "import matplotlib.pyplot as plt\n",
        "import torch\n",
        "import torch.nn as nn\n",
        "import nltk\n",
        "from collections import Counter\n",
        "\n",
        "#Sets random seeds for reproducibility\n",
        "seed=159259\n",
        "np.random.seed(seed)\n",
        "torch.manual_seed(seed)\n",
        "torch.cuda.manual_seed(seed)\n",
        "torch.backends.cudnn.deterministic = True"
      ]
    },
    {
      "cell_type": "code",
      "execution_count": 2,
      "metadata": {
        "id": "s7DVjxeq_-OF",
        "colab": {
          "base_uri": "https://localhost:8080/"
        },
        "outputId": "c65c38f4-6516-4ccb-abd8-51ad685f3ef0"
      },
      "outputs": [
        {
          "output_type": "stream",
          "name": "stdout",
          "text": [
            "/usr/lib/python3.7/runpy.py:125: RuntimeWarning: 'nltk.downloader' found in sys.modules after import of package 'nltk', but prior to execution of 'nltk.downloader'; this may result in unpredictable behaviour\n",
            "  warn(RuntimeWarning(msg))\n",
            "[nltk_data] Downloading package punkt to /root/nltk_data...\n",
            "[nltk_data]   Unzipping tokenizers/punkt.zip.\n"
          ]
        }
      ],
      "source": [
        "!python -m nltk.downloader punkt"
      ]
    },
    {
      "cell_type": "markdown",
      "metadata": {
        "id": "jlYfHZwlQXA_"
      },
      "source": [
        "When looking up pytorch documentation, it may be useful to know which version of torch you are running.\n"
      ]
    },
    {
      "cell_type": "code",
      "execution_count": 3,
      "metadata": {
        "id": "qUdEHON5lybF",
        "colab": {
          "base_uri": "https://localhost:8080/"
        },
        "outputId": "4b6e3ddc-1571-40a2-93ad-46acf35786d0"
      },
      "outputs": [
        {
          "output_type": "stream",
          "name": "stdout",
          "text": [
            "1.10.0+cu111\n"
          ]
        }
      ],
      "source": [
        "print(torch.__version__)"
      ]
    },
    {
      "cell_type": "markdown",
      "metadata": {
        "id": "8xrbyc1flKp_"
      },
      "source": [
        "# **IMPORTANT**: GPU is not enabled by default\n",
        "\n",
        "You must switch runtime environments if your output of the next block of code has an error saying \"ValueError: Expected a cuda device, but got: cpu\"\n",
        "\n",
        "Go to Runtime > Change runtime type > Hardware accelerator > GPU"
      ]
    },
    {
      "cell_type": "code",
      "execution_count": 4,
      "metadata": {
        "id": "mRy4VWrvkCP6",
        "colab": {
          "base_uri": "https://localhost:8080/"
        },
        "outputId": "47c6ee5d-17ba-4404-a35f-511db5bf2e3c"
      },
      "outputs": [
        {
          "output_type": "stream",
          "name": "stdout",
          "text": [
            "Running on <torch.cuda.device object at 0x7f1ffaecbd50>\n"
          ]
        }
      ],
      "source": [
        "device = torch.cuda.device(\"cuda\" if torch.cuda.is_available() else \"cpu\")\n",
        "print(\"Running on {}\".format(device))"
      ]
    },
    {
      "cell_type": "markdown",
      "metadata": {
        "id": "XyARzkPKmUlR"
      },
      "source": [
        "# Data Processing\n",
        "\n",
        "Let's begin by loading our datasets and the 50-dimensional GLoVE word embeddings.  "
      ]
    },
    {
      "cell_type": "code",
      "execution_count": 5,
      "metadata": {
        "id": "l_ZZQsGwH5vj",
        "colab": {
          "base_uri": "https://localhost:8080/"
        },
        "outputId": "f9cc03be-bd3d-46d9-8abe-d3726fbc1f61"
      },
      "outputs": [
        {
          "output_type": "stream",
          "name": "stdout",
          "text": [
            "--2022-02-04 04:58:13--  https://raw.githubusercontent.com/dbamman/nlp22/main/HW3/train.txt\n",
            "Resolving raw.githubusercontent.com (raw.githubusercontent.com)... 185.199.110.133, 185.199.108.133, 185.199.109.133, ...\n",
            "Connecting to raw.githubusercontent.com (raw.githubusercontent.com)|185.199.110.133|:443... connected.\n",
            "HTTP request sent, awaiting response... 200 OK\n",
            "Length: 6645801 (6.3M) [text/plain]\n",
            "Saving to: ‘train.txt’\n",
            "\n",
            "train.txt           100%[===================>]   6.34M  --.-KB/s    in 0.09s   \n",
            "\n",
            "2022-02-04 04:58:14 (68.3 MB/s) - ‘train.txt’ saved [6645801/6645801]\n",
            "\n",
            "--2022-02-04 04:58:14--  https://raw.githubusercontent.com/dbamman/nlp22/main/HW3/dev.txt\n",
            "Resolving raw.githubusercontent.com (raw.githubusercontent.com)... 185.199.108.133, 185.199.109.133, 185.199.110.133, ...\n",
            "Connecting to raw.githubusercontent.com (raw.githubusercontent.com)|185.199.108.133|:443... connected.\n",
            "HTTP request sent, awaiting response... 200 OK\n",
            "Length: 1309909 (1.2M) [text/plain]\n",
            "Saving to: ‘dev.txt’\n",
            "\n",
            "dev.txt             100%[===================>]   1.25M  --.-KB/s    in 0.05s   \n",
            "\n",
            "2022-02-04 04:58:14 (22.9 MB/s) - ‘dev.txt’ saved [1309909/1309909]\n",
            "\n",
            "--2022-02-04 04:58:14--  https://raw.githubusercontent.com/dbamman/nlp22/main/HW3/glove.6B.50d.50K.txt\n",
            "Resolving raw.githubusercontent.com (raw.githubusercontent.com)... 185.199.108.133, 185.199.110.133, 185.199.111.133, ...\n",
            "Connecting to raw.githubusercontent.com (raw.githubusercontent.com)|185.199.108.133|:443... connected.\n",
            "HTTP request sent, awaiting response... 200 OK\n",
            "Length: 21357789 (20M) [text/plain]\n",
            "Saving to: ‘glove.6B.50d.50K.txt’\n",
            "\n",
            "glove.6B.50d.50K.tx 100%[===================>]  20.37M  80.9MB/s    in 0.3s    \n",
            "\n",
            "2022-02-04 04:58:14 (80.9 MB/s) - ‘glove.6B.50d.50K.txt’ saved [21357789/21357789]\n",
            "\n"
          ]
        }
      ],
      "source": [
        "!wget https://raw.githubusercontent.com/dbamman/nlp22/main/HW3/train.txt\n",
        "!wget https://raw.githubusercontent.com/dbamman/nlp22/main/HW3/dev.txt\n",
        "!wget https://raw.githubusercontent.com/dbamman/nlp22/main/HW3/glove.6B.50d.50K.txt"
      ]
    },
    {
      "cell_type": "code",
      "execution_count": 6,
      "metadata": {
        "id": "vC5tWWn2mWhH"
      },
      "outputs": [],
      "source": [
        "trainingFile = \"train.txt\"\n",
        "devFile = \"dev.txt\""
      ]
    },
    {
      "cell_type": "code",
      "execution_count": 7,
      "metadata": {
        "id": "q_vLcPzzIxDw"
      },
      "outputs": [],
      "source": [
        "labels = {'pos': 0, 'neg': 1}"
      ]
    },
    {
      "cell_type": "code",
      "execution_count": 8,
      "metadata": {
        "id": "sNb4H1auI4lA"
      },
      "outputs": [],
      "source": [
        "def get_batches(x, y, xType, batch_size=12):\n",
        "    batches_x=[]\n",
        "    batches_y=[]\n",
        "    for i in range(0, len(x), batch_size):\n",
        "        batches_x.append(xType(x[i:i+batch_size]))\n",
        "        batches_y.append(torch.LongTensor(y[i:i+batch_size]))\n",
        "    \n",
        "    return batches_x, batches_y\n",
        "        "
      ]
    },
    {
      "cell_type": "code",
      "execution_count": 9,
      "metadata": {
        "id": "SnIbufFHlYSx"
      },
      "outputs": [],
      "source": [
        "PAD_INDEX = 0             # reserved for padding words\n",
        "UNKNOWN_INDEX = 1         # reserved for unknown words\n",
        "SEP_INDEX = 2\n",
        "\n",
        "data_lens = []\n",
        "\n",
        "def read_embeddings(filename, vocab_size=50000):\n",
        "  \"\"\"\n",
        "  Utility function, loads in the `vocab_size` most common embeddings from `filename`\n",
        "  \n",
        "  Arguments:\n",
        "  - filename:     path to file\n",
        "                  automatically infers correct embedding dimension from filename\n",
        "  - vocab_size:   maximum number of embeddings to load\n",
        "\n",
        "  Returns \n",
        "  - embeddings:   torch.FloatTensor matrix of size (vocab_size x word_embedding_dim)\n",
        "  - vocab:        dictionary mapping word (str) to index (int) in embedding matrix\n",
        "  \"\"\"\n",
        "\n",
        "  # get the embedding size from the first embedding\n",
        "  with open(filename, encoding=\"utf-8\") as file:\n",
        "    word_embedding_dim = len(file.readline().split(\" \")) - 1\n",
        "\n",
        "  vocab = {}\n",
        "\n",
        "  embeddings = np.zeros((vocab_size, word_embedding_dim))\n",
        "  with open(filename, encoding=\"utf-8\") as file:\n",
        "    for idx, line in enumerate(file):\n",
        "\n",
        "      if idx + 2 >= vocab_size:\n",
        "        break\n",
        "\n",
        "      cols = line.rstrip().split(\" \")\n",
        "      val = np.array(cols[1:])\n",
        "      word = cols[0]\n",
        "      embeddings[idx + 2] = val\n",
        "      vocab[word] = idx + 2\n",
        "  \n",
        "  # a FloatTensor is a multidimensional matrix\n",
        "  # that contains 32-bit floats in every entry\n",
        "  # https://pytorch.org/docs/stable/tensors.html\n",
        "  return torch.FloatTensor(embeddings), vocab"
      ]
    },
    {
      "cell_type": "markdown",
      "metadata": {
        "id": "PrBHMiLPIOKB"
      },
      "source": [
        "# Logistic regression\n",
        "\n",
        "First, let's code up logistic regression in pytorch so you can see how the general framework works, and also get a sense of its performance that we can compare a CNN against."
      ]
    },
    {
      "cell_type": "code",
      "execution_count": 10,
      "metadata": {
        "id": "392D8YLfI_K3"
      },
      "outputs": [],
      "source": [
        "class LogisticRegressionClassifier(nn.Module):\n",
        "\n",
        "   def __init__(self, input_dim, output_dim):\n",
        "      super().__init__()\n",
        "      self.linear = torch.nn.Linear(input_dim, output_dim)\n",
        " \n",
        "    \n",
        "   def forward(self, input): \n",
        "      x1 = self.linear(input)\n",
        "      return x1\n",
        "\n",
        "   def evaluate(self, x, y):\n",
        "\n",
        "      self.eval()\n",
        "      corr = 0.\n",
        "      total = 0.\n",
        "      with torch.no_grad():\n",
        "        for x, y in zip(x, y):\n",
        "          y_preds=self.forward(x)\n",
        "          for idx, y_pred in enumerate(y_preds):\n",
        "              prediction=torch.argmax(y_pred)\n",
        "              if prediction == y[idx]:\n",
        "                corr += 1.\n",
        "              total+=1                          \n",
        "      return corr/total\n"
      ]
    },
    {
      "cell_type": "markdown",
      "metadata": {
        "id": "sgaDKtOrc10l"
      },
      "source": [
        "## Example: Average Embedding Representation\n",
        "Let's train a logistic regression classifier where the input is the average GLoVE embedding for all words in a review."
      ]
    },
    {
      "cell_type": "code",
      "execution_count": 11,
      "metadata": {
        "id": "0YgU4027luO3"
      },
      "outputs": [],
      "source": [
        "def read_glove_data(filename, vocab, embs):\n",
        "    data=[]\n",
        "    data_labels=[]\n",
        "    with open(filename) as file:\n",
        "        for line in file:\n",
        "            avg_emb=np.zeros(50)\n",
        "            cols=line.rstrip().split(\"\\t\")\n",
        "            idd = cols[0]\n",
        "            label = cols[1]\n",
        "            review = cols[2]\n",
        "            words=nltk.word_tokenize(review)\n",
        "            avg_counter = 0.\n",
        "            for word in words:\n",
        "                word=word.lower()\n",
        "                if word in glove_vocab:\n",
        "                    avg_emb += embs[glove_vocab[word]].numpy()\n",
        "                    avg_counter += 1.\n",
        "            avg_emb /= avg_counter\n",
        "\n",
        "            data.append(avg_emb)\n",
        "            data_labels.append(labels[label])\n",
        "    return data, data_labels \n"
      ]
    },
    {
      "cell_type": "code",
      "execution_count": 12,
      "metadata": {
        "id": "JYb1iVsqb0Le"
      },
      "outputs": [],
      "source": [
        "embs, glove_vocab = read_embeddings(\"glove.6B.50d.50K.txt\")\n",
        "avg_train_x, avg_train_y=read_glove_data(trainingFile, glove_vocab, embs)\n",
        "avg_dev_x, avg_dev_y=read_glove_data(devFile, glove_vocab, embs)"
      ]
    },
    {
      "cell_type": "code",
      "execution_count": 13,
      "metadata": {
        "id": "-FeYYf7-c01Z",
        "colab": {
          "base_uri": "https://localhost:8080/"
        },
        "outputId": "62b66d76-2d10-4892-bf27-f1dc2e4a4b23"
      },
      "outputs": [
        {
          "output_type": "stream",
          "name": "stderr",
          "text": [
            "/usr/local/lib/python3.7/dist-packages/ipykernel_launcher.py:5: UserWarning: Creating a tensor from a list of numpy.ndarrays is extremely slow. Please consider converting the list to a single numpy.ndarray with numpy.array() before converting to a tensor. (Triggered internally at  ../torch/csrc/utils/tensor_new.cpp:201.)\n",
            "  \"\"\"\n"
          ]
        }
      ],
      "source": [
        "avg_trainX, avg_trainY=get_batches(avg_train_x, avg_train_y, xType=torch.FloatTensor)\n",
        "avg_devX, avg_devY=get_batches(avg_dev_x, avg_dev_y, xType=torch.FloatTensor)"
      ]
    },
    {
      "cell_type": "code",
      "execution_count": 14,
      "metadata": {
        "id": "Duzn0vCrdR5X",
        "colab": {
          "base_uri": "https://localhost:8080/"
        },
        "outputId": "a950a279-1320-4221-b9b1-8bd00b6af876"
      },
      "outputs": [
        {
          "output_type": "stream",
          "name": "stdout",
          "text": [
            "Epoch 0, dev accuracy: 0.649\n",
            "Epoch 5, dev accuracy: 0.684\n",
            "Epoch 10, dev accuracy: 0.702\n",
            "Epoch 15, dev accuracy: 0.723\n",
            "Epoch 20, dev accuracy: 0.728\n",
            "Epoch 25, dev accuracy: 0.734\n",
            "Epoch 30, dev accuracy: 0.737\n",
            "Epoch 35, dev accuracy: 0.737\n",
            "Epoch 40, dev accuracy: 0.739\n",
            "Stopping training; no improvement on dev data after 10 epochs\n"
          ]
        }
      ],
      "source": [
        "logreg=LogisticRegressionClassifier(50, len(labels))\n",
        "optimizer = torch.optim.Adam(logreg.parameters(), lr=0.001, weight_decay=1e-5)\n",
        "losses = []\n",
        "cross_entropy=nn.CrossEntropyLoss()\n",
        "\n",
        "num_labels=len(labels)\n",
        "\n",
        "patience=10\n",
        "maxDevAccuracy=0\n",
        "patienceCounter=0\n",
        "\n",
        "for epoch in range(200):\n",
        "    logreg.train()\n",
        "    \n",
        "    for x, y in zip(avg_trainX, avg_trainY):\n",
        "        y_pred=logreg.forward(x)\n",
        "        loss = cross_entropy(y_pred.view(-1, num_labels), y.view(-1))\n",
        "        losses.append(loss)\n",
        "        optimizer.zero_grad()\n",
        "        loss.backward()\n",
        "        optimizer.step()\n",
        "\n",
        "    dev_accuracy=logreg.evaluate(avg_devX, avg_devY)\n",
        "    \n",
        "    # check if the dev accuracy is the best seen so far\n",
        "    if dev_accuracy > maxDevAccuracy:\n",
        "        maxDevAccuracy=dev_accuracy\n",
        "        patienceCounter=0\n",
        "    \n",
        "    patienceCounter+=1\n",
        "    \n",
        "    if epoch % 5 == 0:\n",
        "        print(\"Epoch %s, dev accuracy: %.3f\" % (epoch, dev_accuracy))\n",
        "    if patienceCounter >= patience:\n",
        "        print(\"Stopping training; no improvement on dev data after %s epochs\" % patience)\n",
        "        break"
      ]
    },
    {
      "cell_type": "markdown",
      "metadata": {
        "id": "ObjO1BiXc_nY"
      },
      "source": [
        "# Deliverable 1. BOW Representation\n",
        "Your last homework used sklearn for logistic regression classification using a bag-of-words representation. Here you'll do the same thing, but in pytorch.  Fill in a bag-of-words implementation into read_bow_data() to see how the logistic classifier model works with this different featurization. "
      ]
    },
    {
      "cell_type": "code",
      "execution_count": 15,
      "metadata": {
        "id": "0r3LM0mKDxVP"
      },
      "outputs": [],
      "source": [
        "# This function creates a unigram vocabulary from the most frequent 10K words in the training data\n",
        "def get_vocab(filename, max_words=10000):\n",
        "    unigram_counts=Counter()\n",
        "    with open(filename) as file:    \n",
        "        for line in file:\n",
        "            cols=line.rstrip().split(\"\\t\")\n",
        "            idd = cols[0]\n",
        "            label = cols[1]\n",
        "            review = cols[2]\n",
        "            words=nltk.word_tokenize(review)\n",
        "\n",
        "            for word in words:\n",
        "                word=word.lower()\n",
        "                unigram_counts[word]+=1\n",
        "\n",
        "    vocab={}\n",
        "    for k,v in unigram_counts.most_common(max_words):\n",
        "        vocab[k]=len(vocab)\n",
        "    return vocab\n",
        "        "
      ]
    },
    {
      "cell_type": "code",
      "execution_count": 16,
      "metadata": {
        "id": "huWSY2FNlqrF"
      },
      "outputs": [],
      "source": [
        "def read_bow_data(filename, vocab):\n",
        "    data=[]\n",
        "    data_labels=[]\n",
        "    with open(filename) as file:\n",
        "        for line in file:\n",
        "            cols=line.rstrip().split(\"\\t\")\n",
        "            idd = cols[0]\n",
        "            label = cols[1]\n",
        "            review = cols[2]\n",
        "            bow=np.zeros(len(vocab))\n",
        "\n",
        "            '''\n",
        "            Add your bow code here to store the featurization in the bow variable. \n",
        "            \n",
        "            '''\n",
        "            tokens = set(nltk.word_tokenize(review.lower()))\n",
        "            for t in tokens:\n",
        "                if t in vocab:\n",
        "                    bow[vocab[t]] = 1\n",
        "\n",
        "            data.append(bow)\n",
        "\n",
        "            data_labels.append(labels[label])\n",
        "    return data, data_labels \n"
      ]
    },
    {
      "cell_type": "code",
      "execution_count": 17,
      "metadata": {
        "id": "tc9ZGJvWImkA"
      },
      "outputs": [],
      "source": [
        "bow_vocab=get_vocab(trainingFile)\n",
        "bow_train_x, bow_train_y=read_bow_data(trainingFile, bow_vocab)\n",
        "bow_dev_x, bow_dev_y=read_bow_data(devFile, bow_vocab)"
      ]
    },
    {
      "cell_type": "code",
      "execution_count": 18,
      "metadata": {
        "id": "LFucMsZII8Hb"
      },
      "outputs": [],
      "source": [
        "bow_trainX, bow_trainY=get_batches(bow_train_x, bow_train_y, xType=torch.FloatTensor)\n",
        "bow_devX, bow_devY=get_batches(bow_dev_x, bow_dev_y, xType=torch.FloatTensor)"
      ]
    },
    {
      "cell_type": "code",
      "execution_count": 19,
      "metadata": {
        "id": "byr4SJB1JCDO",
        "colab": {
          "base_uri": "https://localhost:8080/"
        },
        "outputId": "76db40e2-92d0-42ab-f72a-d67e0fe0f0b7"
      },
      "outputs": [
        {
          "output_type": "stream",
          "name": "stdout",
          "text": [
            "Epoch 0, dev accuracy: 0.844\n",
            "Epoch 5, dev accuracy: 0.867\n",
            "Epoch 10, dev accuracy: 0.860\n",
            "Stopping training; no improvement on dev data after 10 epochs\n",
            "\n",
            "Best Performing Model achieves dev accuracy of : 0.867\n"
          ]
        }
      ],
      "source": [
        "logreg=LogisticRegressionClassifier(len(bow_vocab), len(labels))\n",
        "optimizer = torch.optim.Adam(logreg.parameters(), lr=0.001, weight_decay=1e-5)\n",
        "losses = []\n",
        "cross_entropy=nn.CrossEntropyLoss()\n",
        "best_dev_acc = 0.\n",
        "\n",
        "num_labels=len(labels)\n",
        "\n",
        "patience=10\n",
        "patienceCounter=0\n",
        "\n",
        "for epoch in range(200):\n",
        "    for x, y in zip(bow_trainX, bow_trainY):\n",
        "        y_pred=logreg.forward(x)\n",
        "        loss = cross_entropy(y_pred.view(-1, num_labels), y.view(-1))\n",
        "        losses.append(loss)\n",
        "        optimizer.zero_grad()\n",
        "        loss.backward()\n",
        "        optimizer.step()\n",
        "    dev_accuracy=logreg.evaluate(bow_devX, bow_devY)\n",
        "            \n",
        "    if epoch % 5 == 0:\n",
        "        print(\"Epoch %s, dev accuracy: %.3f\" % (epoch, dev_accuracy))\n",
        "\n",
        "    # check if the dev accuracy is the best seen so far; save the model if so\n",
        "    if dev_accuracy > best_dev_acc:\n",
        "      torch.save(logreg.state_dict(), 'best-bowmodel-parameters.pt')\n",
        "      best_dev_acc = dev_accuracy\n",
        "      patienceCounter=0\n",
        "\n",
        "    patienceCounter+=1\n",
        "    if patienceCounter >= patience:\n",
        "        print(\"Stopping training; no improvement on dev data after %s epochs\" % patience)\n",
        "        break\n",
        "    \n",
        "logreg.load_state_dict(torch.load('best-bowmodel-parameters.pt'))\n",
        "print(\"\\nBest Performing Model achieves dev accuracy of : %.3f\" % (best_dev_acc))    "
      ]
    },
    {
      "cell_type": "markdown",
      "metadata": {
        "id": "bbHrmE4jJQrT"
      },
      "source": [
        "# Deliverable 2. CNN \n",
        "\n",
        "Now let's create our CNN."
      ]
    },
    {
      "cell_type": "code",
      "execution_count": 20,
      "metadata": {
        "id": "9YhST7BOJPoG"
      },
      "outputs": [],
      "source": [
        "def read_data(filename, vocab, labels):\n",
        "    \"\"\"\n",
        "    :param filename: the name of the file\n",
        "    :return: list of tuple ([word index list], label)\n",
        "    as input for the forward and backward function\n",
        "    \"\"\"    \n",
        "    data = []\n",
        "    data_labels = []\n",
        "    file = open(filename)\n",
        "    for line in file:\n",
        "        cols = line.split(\"\\t\")\n",
        "        idd = cols[0]\n",
        "        label = cols[1]\n",
        "        review = cols[2]\n",
        "        w_int = []\n",
        "        for w in nltk.word_tokenize(review.lower()):\n",
        "            if w in vocab:\n",
        "                w_int.append(vocab[w])\n",
        "            else:\n",
        "                w_int.append(UNKNOWN_INDEX)\n",
        "        data_lens.append(len(w_int))\n",
        "        if len(w_int) < 549:\n",
        "            w_int.extend([PAD_INDEX] * (549 - len(w_int)))\n",
        "        if len(w_int) < 550:\n",
        "          data.append((w_int))\n",
        "          data_labels.append(labels[label])\n",
        "    file.close()\n",
        "    return data, data_labels\n"
      ]
    },
    {
      "cell_type": "code",
      "execution_count": 21,
      "metadata": {
        "id": "9sB60ratJZvB"
      },
      "outputs": [],
      "source": [
        "embs, cnn_vocab = read_embeddings(\"glove.6B.50d.50K.txt\")"
      ]
    },
    {
      "cell_type": "code",
      "execution_count": 22,
      "metadata": {
        "id": "hStl2tmiJesV"
      },
      "outputs": [],
      "source": [
        "cnn_train_x, cnn_train_y = read_data(trainingFile, cnn_vocab, labels)\n",
        "cnn_dev_x, cnn_dev_y = read_data(devFile, cnn_vocab, labels)"
      ]
    },
    {
      "cell_type": "code",
      "execution_count": 45,
      "metadata": {
        "id": "gZNvT-REJgv1"
      },
      "outputs": [],
      "source": [
        "batch_size = 12\n",
        "cnn_trainX, cnn_trainY=get_batches(cnn_train_x, cnn_train_y, torch.LongTensor, batch_size=batch_size)\n",
        "cnn_devX, cnn_devY=get_batches(cnn_dev_x, cnn_dev_y, torch.LongTensor, batch_size=batch_size)"
      ]
    },
    {
      "cell_type": "code",
      "execution_count": 33,
      "metadata": {
        "id": "LDGz8mqdJjic"
      },
      "outputs": [],
      "source": [
        "class CNNClassifier(nn.Module):\n",
        "\n",
        "   def __init__(self, params, pretrained_embeddings):\n",
        "      super().__init__()\n",
        "      self.seq_len = params[\"max_seq_len\"]\n",
        "      self.num_labels = params[\"label_length\"]\n",
        "      \n",
        "      '''\n",
        "      Initialize the following layers according to the hw spec\n",
        "      '''\n",
        "      self.embeddings = nn.Embedding(\n",
        "          pretrained_embeddings.shape[0],\n",
        "          pretrained_embeddings.shape[1],\n",
        "          _weight=pretrained_embeddings,\n",
        "      )\n",
        "\n",
        "      # convolution over 1 word\n",
        "      self.conv_1 = nn.LazyConv1d(50, 1)\n",
        "\n",
        "      # convolution over 2 words    \n",
        "      self.conv_2 = nn.LazyConv1d(50, 2)\n",
        "        \n",
        "      # convolution over 3 words\n",
        "      self.conv_3 = nn.LazyConv1d(50, 3)\n",
        "        \n",
        "      self.fc = nn.LazyLinear(self.num_labels)\n",
        "\n",
        "    \n",
        "   def forward(self, input):\n",
        "      #embeds the input sequences\n",
        "      x0 = self.embeddings(input)\n",
        "      #changes dimensions to be consistent with conv1d\n",
        "      x0 = x0.permute(0, 2, 1)\n",
        "\n",
        "      '''\n",
        "      Create the hidden representations according to the hw spec\n",
        "      '''\n",
        "\n",
        "      # Apply the one-word convolution, tanh, and max pool\n",
        "      x1 = self.conv_1(x0)\n",
        "      x1 = torch.tanh(x1)\n",
        "      x1 = nn.functional.max_pool1d(x1, self.seq_len)\n",
        "\n",
        "      # Apply the two-word convolution, tanh, and max pool\n",
        "      x2 = self.conv_2(x0)\n",
        "      x2 = torch.tanh(x2)\n",
        "      x2 = nn.functional.max_pool1d(x2, self.seq_len-1)\n",
        "\n",
        "      # Apply the three-word convolution, tanh, and max pool\n",
        "      x3 = self.conv_3(x0)\n",
        "      x3 = torch.tanh(x3)\n",
        "      x3 = nn.functional.max_pool1d(x3, self.seq_len-2)\n",
        "\n",
        "      # Concatenates the output of all 3 convolution layers\n",
        "      combined = torch.hstack((x1, x2, x3)).squeeze()\n",
        "\n",
        "      # Connects the combined output to the fully-connected layer\n",
        "      out = self.fc(combined)\n",
        "      return out.squeeze()\n",
        "\n",
        "\n",
        "   def evaluate(self, x, y):\n",
        "      \n",
        "      self.eval()\n",
        "      corr = 0.\n",
        "      total = 0.\n",
        "\n",
        "      with torch.no_grad():\n",
        "\n",
        "        for x, y in zip(x, y):\n",
        "          y_preds=self.forward(x)\n",
        "          for idx, y_pred in enumerate(y_preds):\n",
        "              prediction=torch.argmax(y_pred)\n",
        "              if prediction == y[idx]:\n",
        "                corr += 1.\n",
        "              total+=1                          \n",
        "      return corr/total\n"
      ]
    },
    {
      "cell_type": "code",
      "execution_count": 46,
      "metadata": {
        "id": "DxrBo0N0JlGM",
        "colab": {
          "base_uri": "https://localhost:8080/"
        },
        "outputId": "af25fcba-0a18-483e-aa31-681ba050a116"
      },
      "outputs": [
        {
          "output_type": "stream",
          "name": "stderr",
          "text": [
            "/usr/local/lib/python3.7/dist-packages/torch/nn/modules/lazy.py:178: UserWarning: Lazy modules are a new feature under heavy development so changes to the API or functionality can happen at any moment.\n",
            "  warnings.warn('Lazy modules are a new feature under heavy development '\n"
          ]
        },
        {
          "output_type": "stream",
          "name": "stdout",
          "text": [
            "Epoch 0, dev accuracy: 0.781\n",
            "Epoch 1, dev accuracy: 0.825\n",
            "Epoch 2, dev accuracy: 0.827\n",
            "Epoch 3, dev accuracy: 0.823\n",
            "Epoch 4, dev accuracy: 0.819\n",
            "Epoch 5, dev accuracy: 0.826\n",
            "Epoch 6, dev accuracy: 0.828\n",
            "Epoch 7, dev accuracy: 0.823\n",
            "Epoch 8, dev accuracy: 0.825\n",
            "Epoch 9, dev accuracy: 0.824\n",
            "Epoch 10, dev accuracy: 0.825\n",
            "Epoch 11, dev accuracy: 0.823\n",
            "Epoch 12, dev accuracy: 0.819\n",
            "Epoch 13, dev accuracy: 0.815\n",
            "Epoch 14, dev accuracy: 0.813\n",
            "\n",
            "Best Performing Model achieves dev accuracy of : 0.828\n"
          ]
        }
      ],
      "source": [
        "# Running this cell should take ~2 minutes.\n",
        "embs, cnn_vocab = read_embeddings(\"glove.6B.50d.50K.txt\")\n",
        "cnnmodel = CNNClassifier(params={\"max_seq_len\": 549, \"label_length\": len(labels)}, pretrained_embeddings=embs)\n",
        "optimizer = torch.optim.AdamW(cnnmodel.parameters(), lr=1e-3, weight_decay=1e-5)  # original 1e-3, 1e-5\n",
        "losses = []\n",
        "cross_entropy=nn.CrossEntropyLoss()\n",
        "\n",
        "num_epochs=15\n",
        "best_dev_acc = 0.\n",
        "patience=10\n",
        "\n",
        "\n",
        "for epoch in range(num_epochs):\n",
        "    cnnmodel.train()\n",
        "\n",
        "    for x, y in zip(cnn_trainX, cnn_trainY):\n",
        "      y_pred = cnnmodel.forward(x)\n",
        "      loss = cross_entropy(y_pred.view(-1, cnnmodel.num_labels), y.view(-1))\n",
        "      optimizer.zero_grad()\n",
        "      loss.backward()\n",
        "      optimizer.step()\n",
        "      losses.append(loss.detach().cpu().float())\n",
        "    dev_accuracy=cnnmodel.evaluate(cnn_devX, cnn_devY)\n",
        "   \n",
        "    # check if the dev accuracy is the best seen so far; save the model if so\n",
        "    print(\"Epoch %s, dev accuracy: %.3f\" % (epoch, dev_accuracy))\n",
        "    if dev_accuracy > best_dev_acc:\n",
        "      torch.save(cnnmodel.state_dict(), 'best-cnnmodel-parameters.pt')\n",
        "      best_dev_acc = dev_accuracy\n",
        "      patienceCounter=0\n",
        "        \n",
        "    patienceCounter+=1\n",
        "    if patienceCounter >= patience:\n",
        "        print(\"Stopping training; no improvement on dev data after %s epochs\" % patience)\n",
        "        break\n",
        "\n",
        "    \n",
        "cnnmodel.load_state_dict(torch.load('best-cnnmodel-parameters.pt'))\n",
        "print(\"\\nBest Performing Model achieves dev accuracy of : %.3f\" % (best_dev_acc))\n"
      ]
    },
    {
      "cell_type": "markdown",
      "metadata": {
        "id": "8j5kM7T5T69d"
      },
      "source": [
        "# Model Exploration"
      ]
    },
    {
      "cell_type": "markdown",
      "metadata": {
        "id": "j7u2MerXT9fb"
      },
      "source": [
        "## CNN Loss Examination\n",
        "To debug your model and ensure it is updating correctly, it may be helpful to visualize your training loss.  The following code plots loss over epoch.  This should decrease as the model trains and eventually converge.  If your training loss is not decreasing, you might not be initializing your model or creating your forward() pass correctly."
      ]
    },
    {
      "cell_type": "code",
      "execution_count": 47,
      "metadata": {
        "id": "0W1WDYkfrdLX",
        "colab": {
          "base_uri": "https://localhost:8080/",
          "height": 318
        },
        "outputId": "ae2f3ab0-267d-4111-8e19-72e99b94334e"
      },
      "outputs": [
        {
          "output_type": "stream",
          "name": "stdout",
          "text": [
            "[tensor(0.6724), tensor(0.6671), tensor(0.8312), tensor(0.7636), tensor(0.7181), tensor(0.6856), tensor(0.6789), tensor(0.7229), tensor(0.7365), tensor(0.7125), tensor(0.6808), tensor(0.7231), tensor(0.6433), tensor(0.6893), tensor(0.6959), tensor(0.6883), tensor(0.6961), tensor(0.6813), tensor(0.6936), tensor(0.6976), tensor(0.6769), tensor(0.6763), tensor(0.6953), tensor(0.6867), tensor(0.6760), tensor(0.6824), tensor(0.6768), tensor(0.6470), tensor(0.6652), tensor(0.6590), tensor(0.6631), tensor(0.6767), tensor(0.7326), tensor(0.6609), tensor(0.7017), tensor(0.7377), tensor(0.6751), tensor(0.6472), tensor(0.6843), tensor(0.6657), tensor(0.6903), tensor(0.6933), tensor(0.7220), tensor(0.6627), tensor(0.7165), tensor(0.7036), tensor(0.7482), tensor(0.6884), tensor(0.6748), tensor(0.6559), tensor(0.7206), tensor(0.5980), tensor(0.7872), tensor(0.7222), tensor(0.6316), tensor(0.7266), tensor(0.8534), tensor(0.7033), tensor(0.7019), tensor(0.6930), tensor(0.6582), tensor(0.6200), tensor(0.7308), tensor(0.6956), tensor(0.6938), tensor(0.8151), tensor(0.7315), tensor(0.7365), tensor(0.6098), tensor(0.6675), tensor(0.5809), tensor(0.7148), tensor(0.6383), tensor(0.7061), tensor(0.7020), tensor(0.6643), tensor(0.6648), tensor(0.6433), tensor(0.6477), tensor(0.5980), tensor(0.6473), tensor(0.6415), tensor(0.6498), tensor(0.6853), tensor(0.6482), tensor(0.7345), tensor(0.7719), tensor(0.6634), tensor(0.6850), tensor(0.6845), tensor(0.6201), tensor(0.6418), tensor(0.6471), tensor(0.6914), tensor(0.5893), tensor(0.6275), tensor(0.6612), tensor(0.6588), tensor(0.7015), tensor(0.6851), tensor(0.6085), tensor(0.6663), tensor(0.6320), tensor(0.7068), tensor(0.6246), tensor(0.6458), tensor(0.6314), tensor(0.6288), tensor(0.6745), tensor(0.6137), tensor(0.6722), tensor(0.6188), tensor(0.5955), tensor(0.6350), tensor(0.6239), tensor(0.6491), tensor(0.6383), tensor(0.6840), tensor(0.6597), tensor(0.6467), tensor(0.6287), tensor(0.6862), tensor(0.6053), tensor(0.6438), tensor(0.6480), tensor(0.6379), tensor(0.6871), tensor(0.6609), tensor(0.6243), tensor(0.6039), tensor(0.6522), tensor(0.6020), tensor(0.6525), tensor(0.6242), tensor(0.6224), tensor(0.6197), tensor(0.6164), tensor(0.6406), tensor(0.6363), tensor(0.6207), tensor(0.5886), tensor(0.5878), tensor(0.6791), tensor(0.6787), tensor(0.6484), tensor(0.6554), tensor(0.5745), tensor(0.5896), tensor(0.5885), tensor(0.6673), tensor(0.6552), tensor(0.5951), tensor(0.6459), tensor(0.6322), tensor(0.5793), tensor(0.6048), tensor(0.6198), tensor(0.6357), tensor(0.6618), tensor(0.6264), tensor(0.5781), tensor(0.6567), tensor(0.6029), tensor(0.6327), tensor(0.5794), tensor(0.5950), tensor(0.6019), tensor(0.6219), tensor(0.5863), tensor(0.6728), tensor(0.6388), tensor(0.6164), tensor(0.5894), tensor(0.5946), tensor(0.6457), tensor(0.5714), tensor(0.5566), tensor(0.6648), tensor(0.4959), tensor(0.5260), tensor(0.5682), tensor(0.6823), tensor(0.5644), tensor(0.5452), tensor(0.5345), tensor(0.5446), tensor(0.6784), tensor(0.5730), tensor(0.6025), tensor(0.5794), tensor(0.6294), tensor(0.7051), tensor(0.5102), tensor(0.6366), tensor(0.6461), tensor(0.6464), tensor(0.5704), tensor(0.5490), tensor(0.5655), tensor(0.6056), tensor(0.4348), tensor(0.5466), tensor(0.4700), tensor(0.6184), tensor(0.3851), tensor(0.7396), tensor(0.6630), tensor(0.6153), tensor(0.7068), tensor(0.6019), tensor(0.6749), tensor(0.5081), tensor(0.5322), tensor(0.7917), tensor(0.6591), tensor(0.6107), tensor(0.6356), tensor(0.5885), tensor(0.6868), tensor(0.5728), tensor(0.4814), tensor(0.4340), tensor(0.5683), tensor(0.5380), tensor(0.6129), tensor(0.5774), tensor(0.6556), tensor(0.3936), tensor(0.7610), tensor(0.5052), tensor(0.5425), tensor(0.6240), tensor(0.5963), tensor(0.6327), tensor(0.5314), tensor(0.6312), tensor(0.4999), tensor(0.5932), tensor(0.6175), tensor(0.6432), tensor(0.6267), tensor(0.5352), tensor(0.4778), tensor(0.6411), tensor(0.5083), tensor(0.4512), tensor(0.5382), tensor(0.3974), tensor(0.4888), tensor(0.5970), tensor(0.5486), tensor(0.5942), tensor(0.5917), tensor(0.6475), tensor(0.5070), tensor(0.4423), tensor(0.5622), tensor(0.3973), tensor(0.5118), tensor(0.4948), tensor(0.3754), tensor(0.5120), tensor(0.5482), tensor(0.5288), tensor(0.5557), tensor(0.4607), tensor(0.5121), tensor(0.6276), tensor(0.3913), tensor(0.3325), tensor(0.5971), tensor(0.5367), tensor(0.3984), tensor(0.5692), tensor(0.5896), tensor(0.4850), tensor(0.5811), tensor(0.3885), tensor(0.4817), tensor(0.4446), tensor(0.3725), tensor(0.5774), tensor(0.6175), tensor(0.6076), tensor(0.3802), tensor(0.4113), tensor(0.5018), tensor(0.4542), tensor(0.6635), tensor(0.4108), tensor(0.3406), tensor(0.3796), tensor(0.4916), tensor(0.5518), tensor(0.5655), tensor(0.5814), tensor(0.4452), tensor(0.4013), tensor(0.3553), tensor(0.5843), tensor(0.5128), tensor(0.4414), tensor(0.4457), tensor(0.3924), tensor(0.4325), tensor(0.4989), tensor(0.4597), tensor(0.3492), tensor(0.5286), tensor(0.3799), tensor(0.5315), tensor(0.3551), tensor(0.4601), tensor(0.4044), tensor(0.5191), tensor(0.3307), tensor(0.6109), tensor(0.3244), tensor(0.3083), tensor(0.5588), tensor(0.4784), tensor(0.5778), tensor(0.3003), tensor(0.6266), tensor(0.5784), tensor(0.3301), tensor(0.7699), tensor(0.5455), tensor(0.5522), tensor(0.5559), tensor(0.3544), tensor(0.3988), tensor(0.4289), tensor(0.4164), tensor(0.3625), tensor(0.4466), tensor(0.7891), tensor(0.4702), tensor(0.3103), tensor(0.4059), tensor(0.3110), tensor(0.2845), tensor(0.3976), tensor(0.6700), tensor(0.3896), tensor(0.4581), tensor(0.3925), tensor(0.4815), tensor(0.4124), tensor(0.3292), tensor(0.4338), tensor(0.3530), tensor(0.9428), tensor(0.3193), tensor(0.4084), tensor(0.2710), tensor(0.4318), tensor(0.5172), tensor(0.3945), tensor(0.5734), tensor(0.3416), tensor(0.4326), tensor(0.5367), tensor(0.7624), tensor(0.3694), tensor(0.6362), tensor(0.3680), tensor(0.5442), tensor(0.6044), tensor(0.4395), tensor(0.6154), tensor(0.5657), tensor(0.4918), tensor(0.5003), tensor(0.3368), tensor(0.5827), tensor(0.5181), tensor(0.5636), tensor(0.5513), tensor(0.5531), tensor(0.2611), tensor(0.1843), tensor(0.3461), tensor(0.5308), tensor(0.3082), tensor(0.3638), tensor(0.3756), tensor(0.3473), tensor(0.3851), tensor(0.5971), tensor(0.4111), tensor(0.4769), tensor(0.4964), tensor(0.5069), tensor(0.4474), tensor(0.3764), tensor(0.3969), tensor(0.5475), tensor(0.5212), tensor(0.3088), tensor(0.4656), tensor(0.3739), tensor(0.5320), tensor(0.2292), tensor(0.4386), tensor(0.5847), tensor(0.3562), tensor(0.4308), tensor(0.4027), tensor(0.2172), tensor(0.3605), tensor(0.4189), tensor(0.4502), tensor(0.4847), tensor(0.4261), tensor(0.3093), tensor(0.5429), tensor(0.6007), tensor(0.5261), tensor(0.3628), tensor(0.6799), tensor(0.4488), tensor(0.4172), tensor(0.2731), tensor(0.3482), tensor(0.3477), tensor(0.3028), tensor(0.5330), tensor(0.3434), tensor(0.4636), tensor(0.3593), tensor(0.7086), tensor(0.4437), tensor(0.1806), tensor(0.4131), tensor(0.7624), tensor(0.4324), tensor(0.2420), tensor(0.4978), tensor(0.3055), tensor(0.3082), tensor(0.5049), tensor(0.4010), tensor(0.4079), tensor(0.7323), tensor(0.4963), tensor(0.5354), tensor(0.1729), tensor(0.3766), tensor(0.3381), tensor(0.3309), tensor(0.3049), tensor(0.5255), tensor(0.4806), tensor(0.2709), tensor(0.4246), tensor(0.2671), tensor(0.2437), tensor(0.2322), tensor(0.4024), tensor(0.5525), tensor(0.3371), tensor(0.5161), tensor(0.3480), tensor(0.8597), tensor(0.6003), tensor(0.3262), tensor(0.3391), tensor(0.6071), tensor(0.1420), tensor(0.4590), tensor(0.2966), tensor(0.5654), tensor(0.2677), tensor(0.2658), tensor(0.5854), tensor(0.5458), tensor(0.5055), tensor(0.4574), tensor(0.5409), tensor(0.3566), tensor(0.3559), tensor(0.3936), tensor(0.3053), tensor(0.6686), tensor(0.1473), tensor(0.3760), tensor(0.3667), tensor(0.1622), tensor(0.4867), tensor(0.4098), tensor(0.2089), tensor(0.2533), tensor(0.2780), tensor(0.4973), tensor(0.4129), tensor(0.5435), tensor(0.4781), tensor(0.3924), tensor(0.3424), tensor(0.4786), tensor(0.5460), tensor(0.3351), tensor(0.5146), tensor(0.3483), tensor(0.4442), tensor(0.4032), tensor(0.3237), tensor(0.3396), tensor(0.4110), tensor(0.3040), tensor(0.4040), tensor(0.4685), tensor(0.4379), tensor(0.5189), tensor(0.3570), tensor(0.2963), tensor(0.3258), tensor(0.4441), tensor(0.3815), tensor(0.4738), tensor(0.4223), tensor(0.4711), tensor(0.1890), tensor(0.5500), tensor(0.2228), tensor(0.2588), tensor(0.2948), tensor(0.5936), tensor(0.4726), tensor(0.2149), tensor(0.6155), tensor(0.4736), tensor(0.2590), tensor(0.4270), tensor(0.2945), tensor(0.3060), tensor(0.5459), tensor(0.4943), tensor(0.2383), tensor(0.5476), tensor(0.4532), tensor(0.3850), tensor(0.3632), tensor(0.2725), tensor(0.3632), tensor(0.4344), tensor(0.3364), tensor(0.5430), tensor(0.4883), tensor(0.3328), tensor(0.4517), tensor(0.3756), tensor(0.5049), tensor(0.2856), tensor(0.4394), tensor(0.5821), tensor(0.2280), tensor(0.2513), tensor(0.3165), tensor(0.5742), tensor(0.2366), tensor(0.2571), tensor(0.3287), tensor(0.2207), tensor(0.5407), tensor(0.2055), tensor(0.2888), tensor(0.2787), tensor(0.5548), tensor(0.5827), tensor(0.2203), tensor(0.4238), tensor(0.7338), tensor(0.5646), tensor(0.3379), tensor(0.3429), tensor(0.3627), tensor(0.3989), tensor(0.1607), tensor(0.3920), tensor(0.2515), tensor(0.4988), tensor(0.1740), tensor(0.5046), tensor(0.4286), tensor(0.4014), tensor(0.4917), tensor(0.4296), tensor(0.4845), tensor(0.3088), tensor(0.4884), tensor(0.6299), tensor(0.6180), tensor(0.4159), tensor(0.5871), tensor(0.3248), tensor(0.5281), tensor(0.3012), tensor(0.1972), tensor(0.2262), tensor(0.3639), tensor(0.2698), tensor(0.4848), tensor(0.3418), tensor(0.4442), tensor(0.1510), tensor(0.5076), tensor(0.3894), tensor(0.2495), tensor(0.5969), tensor(0.4786), tensor(0.4158), tensor(0.2931), tensor(0.4512), tensor(0.2353), tensor(0.3583), tensor(0.7094), tensor(0.4542), tensor(0.5078), tensor(0.2799), tensor(0.2860), tensor(0.4864), tensor(0.2316), tensor(0.3603), tensor(0.2789), tensor(0.1054), tensor(0.2494), tensor(0.4772), tensor(0.3866), tensor(0.4287), tensor(0.4068), tensor(0.4313), tensor(0.2522), tensor(0.1717), tensor(0.3763), tensor(0.1906), tensor(0.3659), tensor(0.2464), tensor(0.1487), tensor(0.2799), tensor(0.4630), tensor(0.3106), tensor(0.3210), tensor(0.2295), tensor(0.3779), tensor(0.5280), tensor(0.1616), tensor(0.1607), tensor(0.2978), tensor(0.3543), tensor(0.1538), tensor(0.5185), tensor(0.3331), tensor(0.2827), tensor(0.3452), tensor(0.2226), tensor(0.2726), tensor(0.2507), tensor(0.1339), tensor(0.4493), tensor(0.3528), tensor(0.5243), tensor(0.1915), tensor(0.2554), tensor(0.3334), tensor(0.2452), tensor(0.5493), tensor(0.2707), tensor(0.1339), tensor(0.1907), tensor(0.4473), tensor(0.4216), tensor(0.3726), tensor(0.2553), tensor(0.3201), tensor(0.2572), tensor(0.1226), tensor(0.3696), tensor(0.3107), tensor(0.3228), tensor(0.2168), tensor(0.1883), tensor(0.3310), tensor(0.2566), tensor(0.2866), tensor(0.1808), tensor(0.2941), tensor(0.1648), tensor(0.3929), tensor(0.2218), tensor(0.1902), tensor(0.2678), tensor(0.3481), tensor(0.1701), tensor(0.3682), tensor(0.2451), tensor(0.1869), tensor(0.2348), tensor(0.3796), tensor(0.5509), tensor(0.0895), tensor(0.3953), tensor(0.4894), tensor(0.1331), tensor(0.5487), tensor(0.3595), tensor(0.4179), tensor(0.4548), tensor(0.1639), tensor(0.2169), tensor(0.2603), tensor(0.2677), tensor(0.1472), tensor(0.3243), tensor(0.5944), tensor(0.3031), tensor(0.1352), tensor(0.2170), tensor(0.1446), tensor(0.1621), tensor(0.3607), tensor(0.5394), tensor(0.2304), tensor(0.2857), tensor(0.1538), tensor(0.3639), tensor(0.2861), tensor(0.2083), tensor(0.2001), tensor(0.2513), tensor(0.7135), tensor(0.1177), tensor(0.2595), tensor(0.1425), tensor(0.3725), tensor(0.3634), tensor(0.1954), tensor(0.3255), tensor(0.2023), tensor(0.2573), tensor(0.3739), tensor(0.5726), tensor(0.2283), tensor(0.4639), tensor(0.2218), tensor(0.3214), tensor(0.5139), tensor(0.2588), tensor(0.3101), tensor(0.3568), tensor(0.2673), tensor(0.3202), tensor(0.2366), tensor(0.5292), tensor(0.3300), tensor(0.3668), tensor(0.0304), tensor(0.3418), tensor(0.1291), tensor(0.0703), tensor(0.3417), tensor(0.3943), tensor(0.1685), tensor(0.1668), tensor(0.2797), tensor(0.1323), tensor(0.1825), tensor(0.4027), tensor(0.2961), tensor(0.4702), tensor(0.4235), tensor(0.3522), tensor(0.2117), tensor(0.2581), tensor(0.2752), tensor(0.3066), tensor(0.2919), tensor(0.1743), tensor(0.3059), tensor(0.2205), tensor(0.4105), tensor(0.1548), tensor(0.3561), tensor(0.3221), tensor(0.2896), tensor(0.2714), tensor(0.2452), tensor(0.0817), tensor(0.2555), tensor(0.2265), tensor(0.2562), tensor(0.3931), tensor(0.2561), tensor(0.2194), tensor(0.4528), tensor(0.5217), tensor(0.3153), tensor(0.1974), tensor(0.5806), tensor(0.2866), tensor(0.3119), tensor(0.1385), tensor(0.1956), tensor(0.2793), tensor(0.1448), tensor(0.4010), tensor(0.2780), tensor(0.3185), tensor(0.2649), tensor(0.5753), tensor(0.3999), tensor(0.0794), tensor(0.2388), tensor(0.6563), tensor(0.2938), tensor(0.1041), tensor(0.3341), tensor(0.1749), tensor(0.1642), tensor(0.3792), tensor(0.2238), tensor(0.2802), tensor(0.5892), tensor(0.4215), tensor(0.3883), tensor(0.0692), tensor(0.1869), tensor(0.2036), tensor(0.1661), tensor(0.1610), tensor(0.4372), tensor(0.3423), tensor(0.1551), tensor(0.2450), tensor(0.1337), tensor(0.1215), tensor(0.0857), tensor(0.2484), tensor(0.4313), tensor(0.1832), tensor(0.2860), tensor(0.1892), tensor(0.6979), tensor(0.3033), tensor(0.1823), tensor(0.2249), tensor(0.4728), tensor(0.0614), tensor(0.2820), tensor(0.1644), tensor(0.3818), tensor(0.1641), tensor(0.1865), tensor(0.4154), tensor(0.4094), tensor(0.4403), tensor(0.2704), tensor(0.4084), tensor(0.2138), tensor(0.1954), tensor(0.2551), tensor(0.1560), tensor(0.4387), tensor(0.0590), tensor(0.2859), tensor(0.2690), tensor(0.0826), tensor(0.3014), tensor(0.2263), tensor(0.0859), tensor(0.1255), tensor(0.1970), tensor(0.2802), tensor(0.2584), tensor(0.4208), tensor(0.4218), tensor(0.3208), tensor(0.1845), tensor(0.2512), tensor(0.4124), tensor(0.1767), tensor(0.4001), tensor(0.2825), tensor(0.2799), tensor(0.3000), tensor(0.1506), tensor(0.1830), tensor(0.2364), tensor(0.1660), tensor(0.3159), tensor(0.3758), tensor(0.2866), tensor(0.2347), tensor(0.1631), tensor(0.1220), tensor(0.1779), tensor(0.2942), tensor(0.2667), tensor(0.3452), tensor(0.3376), tensor(0.2927), tensor(0.0896), tensor(0.3025), tensor(0.1190), tensor(0.1033), tensor(0.1767), tensor(0.4473), tensor(0.2703), tensor(0.0954), tensor(0.4234), tensor(0.2762), tensor(0.1488), tensor(0.2814), tensor(0.1663), tensor(0.1857), tensor(0.4595), tensor(0.3670), tensor(0.1100), tensor(0.3934), tensor(0.2606), tensor(0.2087), tensor(0.2327), tensor(0.1329), tensor(0.2556), tensor(0.2559), tensor(0.2736), tensor(0.3658), tensor(0.2804), tensor(0.2048), tensor(0.3122), tensor(0.2190), tensor(0.3020), tensor(0.2058), tensor(0.3239), tensor(0.4448), tensor(0.1841), tensor(0.1529), tensor(0.1611), tensor(0.3779), tensor(0.1029), tensor(0.1473), tensor(0.2642), tensor(0.1332), tensor(0.3959), tensor(0.0772), tensor(0.1445), tensor(0.1430), tensor(0.4169), tensor(0.4805), tensor(0.1258), tensor(0.2520), tensor(0.6256), tensor(0.4067), tensor(0.1684), tensor(0.2021), tensor(0.2560), tensor(0.2744), tensor(0.0724), tensor(0.3037), tensor(0.1278), tensor(0.3923), tensor(0.0760), tensor(0.2879), tensor(0.2062), tensor(0.2184), tensor(0.3290), tensor(0.2799), tensor(0.3379), tensor(0.1573), tensor(0.3569), tensor(0.4386), tensor(0.4262), tensor(0.2747), tensor(0.4592), tensor(0.1500), tensor(0.3027), tensor(0.1753), tensor(0.0885), tensor(0.1465), tensor(0.2751), tensor(0.1866), tensor(0.3450), tensor(0.2219), tensor(0.2690), tensor(0.0859), tensor(0.3060), tensor(0.2573), tensor(0.0983), tensor(0.4002), tensor(0.4369), tensor(0.2468), tensor(0.1833), tensor(0.2554), tensor(0.1505), tensor(0.1931), tensor(0.7234), tensor(0.3008), tensor(0.3883), tensor(0.1167), tensor(0.1756), tensor(0.2980), tensor(0.1120), tensor(0.2809), tensor(0.1399), tensor(0.0511), tensor(0.1093), tensor(0.3039), tensor(0.2751), tensor(0.2786), tensor(0.2457), tensor(0.2235), tensor(0.1219), tensor(0.0800), tensor(0.2256), tensor(0.1122), tensor(0.2332), tensor(0.1474), tensor(0.0837), tensor(0.1447), tensor(0.4186), tensor(0.1600), tensor(0.1928), tensor(0.1258), tensor(0.2760), tensor(0.3272), tensor(0.0898), tensor(0.0753), tensor(0.1701), tensor(0.1978), tensor(0.0869), tensor(0.3743), tensor(0.2066), tensor(0.1855), tensor(0.1983), tensor(0.1260), tensor(0.1460), tensor(0.1504), tensor(0.0571), tensor(0.2835), tensor(0.1947), tensor(0.2833), tensor(0.1043), tensor(0.1714), tensor(0.1875), tensor(0.1053), tensor(0.4227), tensor(0.1889), tensor(0.0635), tensor(0.0926), tensor(0.3134), tensor(0.2377), tensor(0.2054), tensor(0.1263), tensor(0.2041), tensor(0.1584), tensor(0.0499), tensor(0.2379), tensor(0.1582), tensor(0.1996), tensor(0.1410), tensor(0.1049), tensor(0.2483), tensor(0.1284), tensor(0.1757), tensor(0.1257), tensor(0.1504), tensor(0.0719), tensor(0.2610), tensor(0.1230), tensor(0.0769), tensor(0.1185), tensor(0.2142), tensor(0.0808), tensor(0.1835), tensor(0.1326), tensor(0.1055), tensor(0.1169), tensor(0.2409), tensor(0.3411), tensor(0.0493), tensor(0.2189), tensor(0.3822), tensor(0.0808), tensor(0.3688), tensor(0.1796), tensor(0.2126), tensor(0.2817), tensor(0.0849), tensor(0.1264), tensor(0.1200), tensor(0.1878), tensor(0.0632), tensor(0.2165), tensor(0.3546), tensor(0.1700), tensor(0.0783), tensor(0.1077), tensor(0.0678), tensor(0.0768), tensor(0.3330), tensor(0.2659), tensor(0.0987), tensor(0.1070), tensor(0.0747), tensor(0.2358), tensor(0.1816), tensor(0.1099), tensor(0.0760), tensor(0.1395), tensor(0.4237), tensor(0.0595), tensor(0.1509), tensor(0.0668), tensor(0.2927), tensor(0.2158), tensor(0.0940), tensor(0.1505), tensor(0.0830), tensor(0.1269), tensor(0.2304), tensor(0.3457), tensor(0.0922), tensor(0.3023), tensor(0.1336), tensor(0.1970), tensor(0.3659), tensor(0.1685), tensor(0.1392), tensor(0.1495), tensor(0.1791), tensor(0.1496), tensor(0.1657), tensor(0.3195), tensor(0.1832), tensor(0.2314), tensor(0.0028), tensor(0.1672), tensor(0.0952), tensor(0.0309), tensor(0.2478), tensor(0.2646), tensor(0.0889), tensor(0.0844), tensor(0.2311), tensor(0.0592), tensor(0.0711), tensor(0.2220), tensor(0.2066), tensor(0.3589), tensor(0.3351), tensor(0.1628), tensor(0.0818), tensor(0.1944), tensor(0.1683), tensor(0.1722), tensor(0.1604), tensor(0.1016), tensor(0.1472), tensor(0.1440), tensor(0.2678), tensor(0.0867), tensor(0.1957), tensor(0.1418), tensor(0.1973), tensor(0.1717), tensor(0.1388), tensor(0.0434), tensor(0.1853), tensor(0.0970), tensor(0.1294), tensor(0.2878), tensor(0.1731), tensor(0.1214), tensor(0.2986), tensor(0.3557), tensor(0.1403), tensor(0.0929), tensor(0.4000), tensor(0.1617), tensor(0.2456), tensor(0.0614), tensor(0.1089), tensor(0.1764), tensor(0.0588), tensor(0.2319), tensor(0.2137), tensor(0.1645), tensor(0.1453), tensor(0.4547), tensor(0.3202), tensor(0.0474), tensor(0.1267), tensor(0.4199), tensor(0.1763), tensor(0.0456), tensor(0.1763), tensor(0.0943), tensor(0.0620), tensor(0.2626), tensor(0.1161), tensor(0.1577), tensor(0.3147), tensor(0.2735), tensor(0.2240), tensor(0.0393), tensor(0.0719), tensor(0.0974), tensor(0.0857), tensor(0.0674), tensor(0.3486), tensor(0.1942), tensor(0.0709), tensor(0.1092), tensor(0.0770), tensor(0.0536), tensor(0.0384), tensor(0.1573), tensor(0.3681), tensor(0.1156), tensor(0.1311), tensor(0.0972), tensor(0.5265), tensor(0.2064), tensor(0.0856), tensor(0.0920), tensor(0.2638), tensor(0.0382), tensor(0.1390), tensor(0.1188), tensor(0.1993), tensor(0.0677), tensor(0.1271), tensor(0.2266), tensor(0.2995), tensor(0.3223), tensor(0.1742), tensor(0.2457), tensor(0.1485), tensor(0.0862), tensor(0.1599), tensor(0.0704), tensor(0.2527), tensor(0.0279), tensor(0.1643), tensor(0.1672), tensor(0.0509), tensor(0.1272), tensor(0.1308), tensor(0.0356), tensor(0.0655), tensor(0.1398), tensor(0.1494), tensor(0.1554), tensor(0.2518), tensor(0.3070), tensor(0.2188), tensor(0.0875), tensor(0.1132), tensor(0.2226), tensor(0.0810), tensor(0.2654), tensor(0.1755), tensor(0.1650), tensor(0.2148), tensor(0.0628), tensor(0.0957), tensor(0.0967), tensor(0.0791), tensor(0.2269), tensor(0.2690), tensor(0.1253), tensor(0.1213), tensor(0.0585), tensor(0.0585), tensor(0.1003), tensor(0.1282), tensor(0.1293), tensor(0.2290), tensor(0.2047), tensor(0.1245), tensor(0.0501), tensor(0.1343), tensor(0.0515), tensor(0.0511), tensor(0.0928), tensor(0.2692), tensor(0.1174), tensor(0.0415), tensor(0.2450), tensor(0.0924), tensor(0.0779), tensor(0.1500), tensor(0.0924), tensor(0.0760), tensor(0.2068), tensor(0.2018), tensor(0.0584), tensor(0.2474), tensor(0.1101), tensor(0.0818), tensor(0.1200), tensor(0.0717), tensor(0.1680), tensor(0.1080), tensor(0.1420), tensor(0.1563), tensor(0.1039), tensor(0.1281), tensor(0.1912), tensor(0.0842), tensor(0.1098), tensor(0.1214), tensor(0.1547), tensor(0.2857), tensor(0.1168), tensor(0.0652), tensor(0.0527), tensor(0.1942), tensor(0.0446), tensor(0.0815), tensor(0.1768), tensor(0.0454), tensor(0.2219), tensor(0.0291), tensor(0.0557), tensor(0.0622), tensor(0.2184), tensor(0.3265), tensor(0.0736), tensor(0.1206), tensor(0.3759), tensor(0.2232), tensor(0.0646), tensor(0.0772), tensor(0.1363), tensor(0.1132), tensor(0.0342), tensor(0.1529), tensor(0.0712), tensor(0.2704), tensor(0.0294), tensor(0.1335), tensor(0.0705), tensor(0.0863), tensor(0.1755), tensor(0.1643), tensor(0.1769), tensor(0.0853), tensor(0.1767), tensor(0.2146), tensor(0.2388), tensor(0.1191), tensor(0.2496), tensor(0.0419), tensor(0.1614), tensor(0.0832), tensor(0.0366), tensor(0.0779), tensor(0.1906), tensor(0.1088), tensor(0.1561), tensor(0.0916), tensor(0.1017), tensor(0.0473), tensor(0.1527), tensor(0.1299), tensor(0.0467), tensor(0.2156), tensor(0.3265), tensor(0.1343), tensor(0.1076), tensor(0.1020), tensor(0.0692), tensor(0.0886), tensor(0.6553), tensor(0.2020), tensor(0.2524), tensor(0.0612), tensor(0.0806), tensor(0.1394), tensor(0.0503), tensor(0.2297), tensor(0.0542), tensor(0.0192), tensor(0.0347), tensor(0.1266), tensor(0.1674), tensor(0.1341), tensor(0.0932), tensor(0.0932), tensor(0.0572), tensor(0.0349), tensor(0.0980), tensor(0.0482), tensor(0.1165), tensor(0.0573), tensor(0.0401), tensor(0.0597), tensor(0.3477), tensor(0.0649), tensor(0.0939), tensor(0.0456), tensor(0.1345), tensor(0.1384), tensor(0.0344), tensor(0.0262), tensor(0.0797), tensor(0.0959), tensor(0.0408), tensor(0.1504), tensor(0.1255), tensor(0.0722), tensor(0.0852), tensor(0.0552), tensor(0.0640), tensor(0.0902), tensor(0.0203), tensor(0.1310), tensor(0.0734), tensor(0.0947), tensor(0.0466), tensor(0.0719), tensor(0.0531), tensor(0.0408), tensor(0.2855), tensor(0.1063), tensor(0.0230), tensor(0.0443), tensor(0.1509), tensor(0.0997), tensor(0.0968), tensor(0.0825), tensor(0.0889), tensor(0.0801), tensor(0.0214), tensor(0.1347), tensor(0.0679), tensor(0.1092), tensor(0.0687), tensor(0.0445), tensor(0.1522), tensor(0.0525), tensor(0.0707), tensor(0.0760), tensor(0.0620), tensor(0.0239), tensor(0.1218), tensor(0.0671), tensor(0.0281), tensor(0.0513), tensor(0.1009), tensor(0.0346), tensor(0.0758), tensor(0.0683), tensor(0.0452), tensor(0.0485), tensor(0.1416), tensor(0.1644), tensor(0.0284), tensor(0.0870), tensor(0.2374), tensor(0.0383), tensor(0.2318), tensor(0.0611), tensor(0.0759), tensor(0.1157), tensor(0.0364), tensor(0.0921), tensor(0.0512), tensor(0.0877), tensor(0.0315), tensor(0.0899), tensor(0.1187), tensor(0.0766), tensor(0.0378), tensor(0.0472), tensor(0.0273), tensor(0.0273), tensor(0.2046), tensor(0.0977), tensor(0.0375), tensor(0.0385), tensor(0.0335), tensor(0.1050), tensor(0.0915), tensor(0.0440), tensor(0.0272), tensor(0.0645), tensor(0.1473), tensor(0.0348), tensor(0.0663), tensor(0.0275), tensor(0.2028), tensor(0.1115), tensor(0.0346), tensor(0.0736), tensor(0.0296), tensor(0.0478), tensor(0.0993), tensor(0.1392), tensor(0.0302), tensor(0.1291), tensor(0.0569), tensor(0.1140), tensor(0.1954), tensor(0.1122), tensor(0.0513), tensor(0.0430), tensor(0.1047), tensor(0.0534), tensor(0.0784), tensor(0.1349), tensor(0.0718), tensor(0.1184), tensor(0.0003), tensor(0.0730), tensor(0.0495), tensor(0.0129), tensor(0.1352), tensor(0.1787), tensor(0.0314), tensor(0.0325), tensor(0.1346), tensor(0.0272), tensor(0.0244), tensor(0.0809), tensor(0.1294), tensor(0.1902), tensor(0.2222), tensor(0.0620), tensor(0.0247), tensor(0.1017), tensor(0.0703), tensor(0.0794), tensor(0.0741), tensor(0.0591), tensor(0.0534), tensor(0.0861), tensor(0.1223), tensor(0.0294), tensor(0.0662), tensor(0.0552), tensor(0.1224), tensor(0.0801), tensor(0.0709), tensor(0.0196), tensor(0.1165), tensor(0.0318), tensor(0.0699), tensor(0.1265), tensor(0.0827), tensor(0.0439), tensor(0.1697), tensor(0.1927), tensor(0.0464), tensor(0.0408), tensor(0.1974), tensor(0.0625), tensor(0.1382), tensor(0.0251), tensor(0.0547), tensor(0.0662), tensor(0.0198), tensor(0.0989), tensor(0.0858), tensor(0.0825), tensor(0.0555), tensor(0.2649), tensor(0.1907), tensor(0.0263), tensor(0.0665), tensor(0.1639), tensor(0.0589), tensor(0.0157), tensor(0.0659), tensor(0.0412), tensor(0.0230), tensor(0.1048), tensor(0.0392), tensor(0.0695), tensor(0.1083), tensor(0.1018), tensor(0.0736), tensor(0.0243), tensor(0.0304), tensor(0.0336), tensor(0.0677), tensor(0.0226), tensor(0.2277), tensor(0.0666), tensor(0.0229), tensor(0.0430), tensor(0.0354), tensor(0.0230), tensor(0.0202), tensor(0.0717), tensor(0.2310), tensor(0.0591), tensor(0.0375), tensor(0.0505), tensor(0.2858), tensor(0.1255), tensor(0.0438), tensor(0.0330), tensor(0.0746), tensor(0.0305), tensor(0.0691), tensor(0.0822), tensor(0.0956), tensor(0.0188), tensor(0.0532), tensor(0.0954), tensor(0.1546), tensor(0.1381), tensor(0.1116), tensor(0.1089), tensor(0.0737), tensor(0.0286), tensor(0.0780), tensor(0.0349), tensor(0.0931), tensor(0.0207), tensor(0.0772), tensor(0.0883), tensor(0.0275), tensor(0.0398), tensor(0.0537), tensor(0.0157), tensor(0.0316), tensor(0.0643), tensor(0.0663), tensor(0.0726), tensor(0.1065), tensor(0.1619), tensor(0.1534), tensor(0.0486), tensor(0.0472), tensor(0.0620), tensor(0.0363), tensor(0.1703), tensor(0.0476), tensor(0.0617), tensor(0.0988), tensor(0.0237), tensor(0.0440), tensor(0.0304), tensor(0.0409), tensor(0.1408), tensor(0.1434), tensor(0.0333), tensor(0.0618), tensor(0.0239), tensor(0.0416), tensor(0.0567), tensor(0.0636), tensor(0.0393), tensor(0.0827), tensor(0.0886), tensor(0.0284), tensor(0.0241), tensor(0.0675), tensor(0.0240), tensor(0.0234), tensor(0.0257), tensor(0.1053), tensor(0.0374), tensor(0.0276), tensor(0.1259), tensor(0.0174), tensor(0.0255), tensor(0.0523), tensor(0.0363), tensor(0.0429), tensor(0.0831), tensor(0.0753), tensor(0.0253), tensor(0.0915), tensor(0.0365), tensor(0.0301), tensor(0.0449), tensor(0.0396), tensor(0.0865), tensor(0.0409), tensor(0.0755), tensor(0.0541), tensor(0.0462), tensor(0.0604), tensor(0.1022), tensor(0.0290), tensor(0.0551), tensor(0.0381), tensor(0.0310), tensor(0.1074), tensor(0.0448), tensor(0.0250), tensor(0.0168), tensor(0.0687), tensor(0.0178), tensor(0.0424), tensor(0.0899), tensor(0.0186), tensor(0.0992), tensor(0.0090), tensor(0.0303), tensor(0.0342), tensor(0.1131), tensor(0.0706), tensor(0.0271), tensor(0.0260), tensor(0.1060), tensor(0.0777), tensor(0.0242), tensor(0.0244), tensor(0.0510), tensor(0.0287), tensor(0.0302), tensor(0.0270), tensor(0.0704), tensor(0.0758), tensor(0.0268), tensor(0.0688), tensor(0.0137), tensor(0.0244), tensor(0.0540), tensor(0.0475), tensor(0.0631), tensor(0.0362), tensor(0.0593), tensor(0.0652), tensor(0.1313), tensor(0.0302), tensor(0.0461), tensor(0.0151), tensor(0.0920), tensor(0.0252), tensor(0.0164), tensor(0.0280), tensor(0.0777), tensor(0.0503), tensor(0.0584), tensor(0.0307), tensor(0.0363), tensor(0.0282), tensor(0.0440), tensor(0.0626), tensor(0.0192), tensor(0.1287), tensor(0.2163), tensor(0.0382), tensor(0.0313), tensor(0.0374), tensor(0.0265), tensor(0.0362), tensor(0.3717), tensor(0.1103), tensor(0.1095), tensor(0.0359), tensor(0.0337), tensor(0.0505), tensor(0.0305), tensor(0.0907), tensor(0.0227), tensor(0.0081), tensor(0.0125), tensor(0.0412), tensor(0.0494), tensor(0.0496), tensor(0.0302), tensor(0.0354), tensor(0.0218), tensor(0.0129), tensor(0.0332), tensor(0.0163), tensor(0.0438), tensor(0.0188), tensor(0.0143), tensor(0.0170), tensor(0.1918), tensor(0.0215), tensor(0.0361), tensor(0.0143), tensor(0.0486), tensor(0.0412), tensor(0.0141), tensor(0.0106), tensor(0.0292), tensor(0.0236), tensor(0.0157), tensor(0.0319), tensor(0.0592), tensor(0.0254), tensor(0.0320), tensor(0.0224), tensor(0.0229), tensor(0.0451), tensor(0.0066), tensor(0.0488), tensor(0.0253), tensor(0.0277), tensor(0.0200), tensor(0.0267), tensor(0.0163), tensor(0.0131), tensor(0.1084), tensor(0.0431), tensor(0.0082), tensor(0.0204), tensor(0.0478), tensor(0.0348), tensor(0.0404), tensor(0.0515), tensor(0.0327), tensor(0.0388), tensor(0.0080), tensor(0.0448), tensor(0.0244), tensor(0.0397), tensor(0.0227), tensor(0.0214), tensor(0.0673), tensor(0.0191), tensor(0.0212), tensor(0.0341), tensor(0.0273), tensor(0.0073), tensor(0.0389), tensor(0.0301), tensor(0.0130), tensor(0.0225), tensor(0.0398), tensor(0.0159), tensor(0.0300), tensor(0.0254), tensor(0.0191), tensor(0.0187), tensor(0.0491), tensor(0.0846), tensor(0.0161), tensor(0.0282), tensor(0.0666), tensor(0.0160), tensor(0.1084), tensor(0.0200), tensor(0.0309), tensor(0.0300), tensor(0.0176), tensor(0.0608), tensor(0.0198), tensor(0.0189), tensor(0.0205), tensor(0.0254), tensor(0.0327), tensor(0.0302), tensor(0.0189), tensor(0.0205), tensor(0.0102), tensor(0.0106), tensor(0.0557), tensor(0.0323), tensor(0.0131), tensor(0.0154), tensor(0.0119), tensor(0.0355), tensor(0.0418), tensor(0.0218), tensor(0.0103), tensor(0.0275), tensor(0.0444), tensor(0.0133), tensor(0.0305), tensor(0.0123), tensor(0.0906), tensor(0.0411), tensor(0.0137), tensor(0.0234), tensor(0.0122), tensor(0.0214), tensor(0.0345), tensor(0.0529), tensor(0.0147), tensor(0.0439), tensor(0.0252), tensor(0.0476), tensor(0.0703), tensor(0.0607), tensor(0.0158), tensor(0.0126), tensor(0.0344), tensor(0.0196), tensor(0.0414), tensor(0.0471), tensor(0.0222), tensor(0.0387), tensor(3.4928e-05), tensor(0.0326), tensor(0.0214), tensor(0.0088), tensor(0.0656), tensor(0.0841), tensor(0.0128), tensor(0.0117), tensor(0.0377), tensor(0.0181), tensor(0.0127), tensor(0.0185), tensor(0.0468), tensor(0.0634), tensor(0.1159), tensor(0.0237), tensor(0.0094), tensor(0.0364), tensor(0.0270), tensor(0.0280), tensor(0.0364), tensor(0.0209), tensor(0.0236), tensor(0.0392), tensor(0.0413), tensor(0.0108), tensor(0.0217), tensor(0.0235), tensor(0.0389), tensor(0.0272), tensor(0.0202), tensor(0.0072), tensor(0.0472), tensor(0.0141), tensor(0.0350), tensor(0.0308), tensor(0.0258), tensor(0.0169), tensor(0.0802), tensor(0.0422), tensor(0.0189), tensor(0.0166), tensor(0.0719), tensor(0.0217), tensor(0.0418), tensor(0.0112), tensor(0.0261), tensor(0.0223), tensor(0.0100), tensor(0.0347), tensor(0.0242), tensor(0.0399), tensor(0.0160), tensor(0.0814), tensor(0.0457), tensor(0.0105), tensor(0.0300), tensor(0.0701), tensor(0.0202), tensor(0.0065), tensor(0.0312), tensor(0.0192), tensor(0.0099), tensor(0.0344), tensor(0.0198), tensor(0.0280), tensor(0.0367), tensor(0.0200), tensor(0.0184), tensor(0.0112), tensor(0.0130), tensor(0.0132), tensor(0.0383), tensor(0.0077), tensor(0.0770), tensor(0.0304), tensor(0.0130), tensor(0.0242), tensor(0.0191), tensor(0.0196), tensor(0.0171), tensor(0.0238), tensor(0.0501), tensor(0.0200), tensor(0.0102), tensor(0.0286), tensor(0.0449), tensor(0.0348), tensor(0.0205), tensor(0.0143), tensor(0.0232), tensor(0.0342), tensor(0.0425), tensor(0.0387), tensor(0.0643), tensor(0.0120), tensor(0.0222), tensor(0.0168), tensor(0.0223), tensor(0.0201), tensor(0.0210), tensor(0.0364), tensor(0.0191), tensor(0.0117), tensor(0.0311), tensor(0.0141), tensor(0.0418), tensor(0.0179), tensor(0.0551), tensor(0.0583), tensor(0.0251), tensor(0.0612), tensor(0.0340), tensor(0.0147), tensor(0.0177), tensor(0.0240), tensor(0.0204), tensor(0.0175), tensor(0.0260), tensor(0.0417), tensor(0.0426), tensor(0.0233), tensor(0.0207), tensor(0.0330), tensor(0.0213), tensor(0.1567), tensor(0.0101), tensor(0.0373), tensor(0.0133), tensor(0.0124), tensor(0.0121), tensor(0.0058), tensor(0.0120), tensor(0.0391), tensor(0.0343), tensor(0.0155), tensor(0.0147), tensor(0.0107), tensor(0.0187), tensor(0.0327), tensor(0.0501), tensor(0.0224), tensor(0.0257), tensor(0.0568), tensor(0.0029), tensor(0.0033), tensor(0.0238), tensor(0.0148), tensor(0.0120), tensor(0.0229), tensor(0.0127), tensor(0.0234), tensor(0.0099), tensor(0.0228), tensor(0.0071), tensor(0.0113), tensor(0.0165), tensor(0.0167), tensor(0.0324), tensor(0.0554), tensor(0.0389), tensor(0.0125), tensor(0.0354), tensor(0.0219), tensor(0.0186), tensor(0.0198), tensor(0.0160), tensor(0.0103), tensor(0.0151), tensor(0.0169), tensor(0.0149), tensor(0.0143), tensor(0.0176), tensor(0.0323), tensor(0.0156), tensor(0.0382), tensor(0.0158), tensor(0.0139), tensor(0.0304), tensor(0.0194), tensor(0.0232), tensor(0.0119), tensor(0.0147), tensor(0.0077), tensor(0.0084), tensor(0.0142), tensor(0.0069), tensor(0.0250), tensor(0.0042), tensor(0.0097), tensor(0.0136), tensor(0.0355), tensor(0.0171), tensor(0.0135), tensor(0.0080), tensor(0.0129), tensor(0.0186), tensor(0.0119), tensor(0.0111), tensor(0.0159), tensor(0.0149), tensor(0.0080), tensor(0.0157), tensor(0.0207), tensor(0.0263), tensor(0.0109), tensor(0.0194), tensor(0.0047), tensor(0.0106), tensor(0.0209), tensor(0.0150), tensor(0.0122), tensor(0.0164), tensor(0.0214), tensor(0.0246), tensor(0.0249), tensor(0.0147), tensor(0.0192), tensor(0.0051), tensor(0.0315), tensor(0.0099), tensor(0.0085), tensor(0.0140), tensor(0.0145), tensor(0.0268), tensor(0.0289), tensor(0.0150), tensor(0.0294), tensor(0.0068), tensor(0.0348), tensor(0.0179), tensor(0.0147), tensor(0.0306), tensor(0.0535), tensor(0.0174), tensor(0.0101), tensor(0.0255), tensor(0.0130), tensor(0.0217), tensor(0.0722), tensor(0.0280), tensor(0.0510), tensor(0.0124), tensor(0.0154), tensor(0.0197), tensor(0.0131), tensor(0.0252), tensor(0.0098), tensor(0.0045), tensor(0.0046), tensor(0.0221), tensor(0.0127), tensor(0.0227), tensor(0.0193), tensor(0.0203), tensor(0.0094), tensor(0.0048), tensor(0.0228), tensor(0.0135), tensor(0.0146), tensor(0.0053), tensor(0.0060), tensor(0.0062), tensor(0.0399), tensor(0.0080), tensor(0.0160), tensor(0.0056), tensor(0.0221), tensor(0.0187), tensor(0.0067), tensor(0.0036), tensor(0.0118), tensor(0.0078), tensor(0.0065), tensor(0.0133), tensor(0.0249), tensor(0.0116), tensor(0.0121), tensor(0.0111), tensor(0.0126), tensor(0.0251), tensor(0.0032), tensor(0.0206), tensor(0.0103), tensor(0.0131), tensor(0.0113), tensor(0.0146), tensor(0.0093), tensor(0.0047), tensor(0.0239), tensor(0.0110), tensor(0.0043), tensor(0.0077), tensor(0.0152), tensor(0.0129), tensor(0.0169), tensor(0.0211), tensor(0.0126), tensor(0.0199), tensor(0.0035), tensor(0.0159), tensor(0.0089), tensor(0.0214), tensor(0.0102), tensor(0.0180), tensor(0.0331), tensor(0.0077), tensor(0.0110), tensor(0.0182), tensor(0.0098), tensor(0.0039), tensor(0.0144), tensor(0.0136), tensor(0.0068), tensor(0.0078), tensor(0.0176), tensor(0.0053), tensor(0.0122), tensor(0.0097), tensor(0.0070), tensor(0.0087), tensor(0.0160), tensor(0.0399), tensor(0.0113), tensor(0.0157), tensor(0.0157), tensor(0.0059), tensor(0.0547), tensor(0.0101), tensor(0.0161), tensor(0.0162), tensor(0.0078), tensor(0.0312), tensor(0.0104), tensor(0.0073), tensor(0.0081), tensor(0.0109), tensor(0.0152), tensor(0.0140), tensor(0.0095), tensor(0.0094), tensor(0.0043), tensor(0.0051), tensor(0.0213), tensor(0.0151), tensor(0.0065), tensor(0.0099), tensor(0.0051), tensor(0.0144), tensor(0.0211), tensor(0.0090), tensor(0.0053), tensor(0.0152), tensor(0.0197), tensor(0.0065), tensor(0.0145), tensor(0.0063), tensor(0.0247), tensor(0.0162), tensor(0.0069), tensor(0.0094), tensor(0.0067), tensor(0.0096), tensor(0.0124), tensor(0.0230), tensor(0.0082), tensor(0.0179), tensor(0.0085), tensor(0.0169), tensor(0.0206), tensor(0.0192), tensor(0.0066), tensor(0.0049), tensor(0.0123), tensor(0.0094), tensor(0.0204), tensor(0.0223), tensor(0.0093), tensor(0.0172), tensor(1.0967e-05), tensor(0.0111), tensor(0.0099), tensor(0.0032), tensor(0.0165), tensor(0.0161), tensor(0.0063), tensor(0.0058), tensor(0.0162), tensor(0.0100), tensor(0.0062), tensor(0.0114), tensor(0.0196), tensor(0.0188), tensor(0.0510), tensor(0.0109), tensor(0.0046), tensor(0.0196), tensor(0.0206), tensor(0.0099), tensor(0.0118), tensor(0.0152), tensor(0.0111), tensor(0.0119), tensor(0.0153), tensor(0.0057), tensor(0.0094), tensor(0.0104), tensor(0.0155), tensor(0.0141), tensor(0.0076), tensor(0.0035), tensor(0.0114), tensor(0.0071), tensor(0.0113), tensor(0.0159), tensor(0.0159), tensor(0.0088), tensor(0.0253), tensor(0.0139), tensor(0.0074), tensor(0.0086), tensor(0.0244), tensor(0.0104), tensor(0.0161), tensor(0.0054), tensor(0.0144), tensor(0.0071), tensor(0.0055), tensor(0.0136), tensor(0.0108), tensor(0.0159), tensor(0.0077), tensor(0.0262), tensor(0.0147), tensor(0.0053), tensor(0.0158), tensor(0.0318), tensor(0.0087), tensor(0.0043), tensor(0.0181), tensor(0.0139), tensor(0.0071), tensor(0.0130), tensor(0.0146), tensor(0.0145), tensor(0.0137), tensor(0.0067), tensor(0.0057), tensor(0.0071), tensor(0.0057), tensor(0.0062), tensor(0.0121), tensor(0.0038), tensor(0.0140), tensor(0.0114), tensor(0.0070), tensor(0.0120), tensor(0.0099), tensor(0.0105), tensor(0.0146), tensor(0.0114), tensor(0.0170), tensor(0.0115), tensor(0.0070), tensor(0.0205), tensor(0.0074), tensor(0.0108), tensor(0.0051), tensor(0.0102), tensor(0.0170), tensor(0.0049), tensor(0.0084), tensor(0.0068), tensor(0.0084), tensor(0.0055), tensor(0.0077), tensor(0.0080), tensor(0.0116), tensor(0.0112), tensor(0.0118), tensor(0.0348), tensor(0.0094), tensor(0.0187), tensor(0.0065), tensor(0.0030), tensor(0.0253), tensor(0.0050), tensor(0.0086), tensor(0.0075), tensor(0.0056), tensor(0.0110), tensor(0.0116), tensor(0.0060), tensor(0.0108), tensor(0.0142), tensor(0.0183), tensor(0.0104), tensor(0.0227), tensor(0.0140), tensor(0.0069), tensor(0.0114), tensor(0.0167), tensor(0.0159), tensor(0.0039), tensor(0.0116), tensor(0.0038), tensor(0.0113), tensor(0.0079), tensor(0.0049), tensor(0.0064), tensor(0.0034), tensor(0.0087), tensor(0.0290), tensor(0.0217), tensor(0.0263), tensor(0.0117), tensor(0.0114), tensor(0.0029), tensor(0.0103), tensor(0.0055), tensor(0.0051), tensor(0.0128), tensor(0.0149), tensor(0.0024), tensor(0.0025), tensor(0.0099), tensor(0.0067), tensor(0.0060), tensor(0.0077), tensor(0.0058), tensor(0.0185), tensor(0.0037), tensor(0.0137), tensor(0.0102), tensor(0.0105), tensor(0.0096), tensor(0.0114), tensor(0.0058), tensor(0.0107), tensor(0.0071), tensor(0.0050), tensor(0.0077), tensor(0.0079), tensor(0.0076), tensor(0.0072), tensor(0.0068), tensor(0.0056), tensor(0.0097), tensor(0.0091), tensor(0.0078), tensor(0.0042), tensor(0.0081), tensor(0.0070), tensor(0.0044), tensor(0.0065), tensor(0.0100), tensor(0.0041), tensor(0.0096), tensor(0.0067), tensor(0.0050), tensor(0.0046), tensor(0.0071), tensor(0.0038), tensor(0.0044), tensor(0.0074), tensor(0.0047), tensor(0.0148), tensor(0.0034), tensor(0.0037), tensor(0.0054), tensor(0.0100), tensor(0.0172), tensor(0.0076), tensor(0.0054), tensor(0.0116), tensor(0.0106), tensor(0.0056), tensor(0.0054), tensor(0.0074), tensor(0.0075), tensor(0.0043), tensor(0.0070), tensor(0.0109), tensor(0.0117), tensor(0.0049), tensor(0.0088), tensor(0.0029), tensor(0.0044), tensor(0.0094), tensor(0.0068), tensor(0.0076), tensor(0.0077), tensor(0.0119), tensor(0.0104), tensor(0.0124), tensor(0.0080), tensor(0.0106), tensor(0.0025), tensor(0.0139), tensor(0.0057), tensor(0.0046), tensor(0.0063), tensor(0.0084), tensor(0.0084), tensor(0.0126), tensor(0.0056), tensor(0.0119), tensor(0.0045), tensor(0.0168), tensor(0.0097), tensor(0.0079), tensor(0.0135), tensor(0.0158), tensor(0.0133), tensor(0.0074), tensor(0.0064), tensor(0.0039), tensor(0.0086), tensor(0.0224), tensor(0.0124), tensor(0.0188), tensor(0.0061), tensor(0.0089), tensor(0.0113), tensor(0.0066), tensor(0.0172), tensor(0.0042), tensor(0.0018), tensor(0.0021), tensor(0.0073), tensor(0.0084), tensor(0.0065), tensor(0.0082), tensor(0.0071), tensor(0.0047), tensor(0.0028), tensor(0.0084), tensor(0.0056), tensor(0.0083), tensor(0.0032), tensor(0.0032), tensor(0.0033), tensor(0.0140), tensor(0.0045), tensor(0.0095), tensor(0.0035), tensor(0.0135), tensor(0.0128), tensor(0.0028), tensor(0.0017), tensor(0.0086), tensor(0.0037), tensor(0.0039), tensor(0.0071), tensor(0.0070), tensor(0.0067), tensor(0.0052), tensor(0.0043), tensor(0.0058), tensor(0.0089), tensor(0.0013), tensor(0.0094), tensor(0.0056), tensor(0.0068), tensor(0.0058), tensor(0.0092), tensor(0.0057), tensor(0.0023), tensor(0.0123), tensor(0.0050), tensor(0.0033), tensor(0.0027), tensor(0.0082), tensor(0.0103), tensor(0.0085), tensor(0.0098), tensor(0.0065), tensor(0.0073), tensor(0.0024), tensor(0.0115), tensor(0.0061), tensor(0.0098), tensor(0.0046), tensor(0.0066), tensor(0.0143), tensor(0.0033), tensor(0.0060), tensor(0.0107), tensor(0.0051), tensor(0.0032), tensor(0.0083), tensor(0.0089), tensor(0.0045), tensor(0.0035), tensor(0.0128), tensor(0.0020), tensor(0.0060), tensor(0.0079), tensor(0.0046), tensor(0.0028), tensor(0.0112), tensor(0.0085), tensor(0.0034), tensor(0.0074), tensor(0.0078), tensor(0.0034), tensor(0.0241), tensor(0.0057), tensor(0.0093), tensor(0.0085), tensor(0.0048), tensor(0.0143), tensor(0.0077), tensor(0.0040), tensor(0.0036), tensor(0.0074), tensor(0.0100), tensor(0.0087), tensor(0.0053), tensor(0.0053), tensor(0.0031), tensor(0.0031), tensor(0.0149), tensor(0.0064), tensor(0.0046), tensor(0.0047), tensor(0.0027), tensor(0.0084), tensor(0.0087), tensor(0.0056), tensor(0.0035), tensor(0.0083), tensor(0.0122), tensor(0.0040), tensor(0.0088), tensor(0.0039), tensor(0.0113), tensor(0.0095), tensor(0.0041), tensor(0.0062), tensor(0.0039), tensor(0.0057), tensor(0.0087), tensor(0.0145), tensor(0.0047), tensor(0.0089), tensor(0.0048), tensor(0.0096), tensor(0.0130), tensor(0.0109), tensor(0.0037), tensor(0.0027), tensor(0.0069), tensor(0.0064), tensor(0.0107), tensor(0.0127), tensor(0.0061), tensor(0.0082), tensor(4.6492e-06), tensor(0.0065), tensor(0.0060), tensor(0.0015), tensor(0.0095), tensor(0.0080), tensor(0.0047), tensor(0.0033), tensor(0.0079), tensor(0.0043), tensor(0.0033), tensor(0.0065), tensor(0.0122), tensor(0.0111), tensor(0.0139), tensor(0.0065), tensor(0.0027), tensor(0.0104), tensor(0.0127), tensor(0.0054), tensor(0.0054), tensor(0.0124), tensor(0.0088), tensor(0.0066), tensor(0.0101), tensor(0.0037), tensor(0.0073), tensor(0.0056), tensor(0.0111), tensor(0.0101), tensor(0.0080), tensor(0.0017), tensor(0.0095), tensor(0.0038), tensor(0.0075), tensor(0.0076), tensor(0.0082), tensor(0.0050), tensor(0.0160), tensor(0.0088), tensor(0.0041), tensor(0.0051), tensor(0.0138), tensor(0.0059), tensor(0.0107), tensor(0.0028), tensor(0.0071), tensor(0.0040), tensor(0.0045), tensor(0.0078), tensor(0.0060), tensor(0.0098), tensor(0.0047), tensor(0.0187), tensor(0.0088), tensor(0.0031), tensor(0.0091), tensor(0.0167), tensor(0.0049), tensor(0.0030), tensor(0.0106), tensor(0.0087), tensor(0.0052), tensor(0.0072), tensor(0.0087), tensor(0.0089), tensor(0.0078), tensor(0.0038), tensor(0.0029), tensor(0.0042), tensor(0.0038), tensor(0.0045), tensor(0.0051), tensor(0.0030), tensor(0.0060), tensor(0.0059), tensor(0.0036), tensor(0.0054), tensor(0.0039), tensor(0.0034), tensor(0.0057), tensor(0.0044), tensor(0.0060), tensor(0.0047), tensor(0.0034), tensor(0.0100), tensor(0.0044), tensor(0.0076), tensor(0.0029), tensor(0.0094), tensor(0.0156), tensor(0.0019), tensor(0.0044), tensor(0.0023), tensor(0.0045), tensor(0.0026), tensor(0.0037), tensor(0.0055), tensor(0.0065), tensor(0.0058), tensor(0.0062), tensor(0.0087), tensor(0.0034), tensor(0.0056), tensor(0.0044), tensor(0.0018), tensor(0.0123), tensor(0.0036), tensor(0.0057), tensor(0.0051), tensor(0.0034), tensor(0.0040), tensor(0.0041), tensor(0.0017), tensor(0.0038), tensor(0.0040), tensor(0.0046), tensor(0.0037), tensor(0.0058), tensor(0.0067), tensor(0.0060), tensor(0.0049), tensor(0.0046), tensor(0.0076), tensor(0.0024), tensor(0.0072), tensor(0.0026), tensor(0.0083), tensor(0.0073), tensor(0.0021), tensor(0.0038), tensor(0.0017), tensor(0.0029), tensor(0.0075), tensor(0.0055), tensor(0.0033), tensor(0.0048), tensor(0.0037), tensor(0.0022), tensor(0.0051), tensor(0.0040), tensor(0.0034), tensor(0.0090), tensor(0.0106), tensor(0.0024), tensor(0.0025), tensor(0.0080), tensor(0.0027), tensor(0.0025), tensor(0.0023), tensor(0.0047), tensor(0.0050), tensor(0.0027), tensor(0.0082), tensor(0.0033), tensor(0.0035), tensor(0.0046), tensor(0.0045), tensor(0.0052), tensor(0.0064), tensor(0.0055), tensor(0.0030), tensor(0.0046), tensor(0.0051), tensor(0.0048), tensor(0.0048), tensor(0.0039), tensor(0.0045), tensor(0.0049), tensor(0.0059), tensor(0.0048), tensor(0.0043), tensor(0.0043), tensor(0.0055), tensor(0.0033), tensor(0.0058), tensor(0.0056), tensor(0.0028), tensor(0.0054), tensor(0.0044), tensor(0.0037), tensor(0.0030), tensor(0.0050), tensor(0.0026), tensor(0.0031), tensor(0.0049), tensor(0.0032), tensor(0.0094), tensor(0.0021), tensor(0.0024), tensor(0.0035), tensor(0.0070), tensor(0.0090), tensor(0.0044), tensor(0.0037), tensor(0.0074), tensor(0.0072), tensor(0.0038), tensor(0.0036), tensor(0.0052), tensor(0.0046), tensor(0.0032), tensor(0.0040), tensor(0.0080), tensor(0.0077), tensor(0.0035), tensor(0.0064), tensor(0.0019), tensor(0.0033), tensor(0.0058), tensor(0.0037), tensor(0.0047), tensor(0.0052), tensor(0.0075), tensor(0.0065), tensor(0.0079), tensor(0.0053), tensor(0.0074), tensor(0.0017), tensor(0.0087), tensor(0.0038), tensor(0.0034), tensor(0.0040), tensor(0.0055), tensor(0.0062), tensor(0.0074), tensor(0.0035), tensor(0.0081), tensor(0.0031), tensor(0.0109), tensor(0.0062), tensor(0.0055), tensor(0.0092), tensor(0.0111), tensor(0.0082), tensor(0.0053), tensor(0.0040), tensor(0.0026), tensor(0.0061), tensor(0.0151), tensor(0.0086), tensor(0.0110), tensor(0.0041), tensor(0.0057), tensor(0.0066), tensor(0.0048), tensor(0.0079), tensor(0.0030), tensor(0.0012), tensor(0.0014), tensor(0.0053), tensor(0.0058), tensor(0.0039), tensor(0.0052), tensor(0.0043), tensor(0.0034), tensor(0.0020), tensor(0.0045), tensor(0.0030), tensor(0.0063), tensor(0.0028), tensor(0.0019), tensor(0.0022), tensor(0.0076), tensor(0.0028), tensor(0.0060), tensor(0.0022), tensor(0.0077), tensor(0.0070), tensor(0.0020), tensor(0.0013), tensor(0.0050), tensor(0.0024), tensor(0.0029), tensor(0.0043), tensor(0.0048), tensor(0.0050), tensor(0.0033), tensor(0.0024), tensor(0.0042), tensor(0.0046), tensor(0.0007), tensor(0.0063), tensor(0.0040), tensor(0.0044), tensor(0.0033), tensor(0.0051), tensor(0.0029), tensor(0.0016), tensor(0.0083), tensor(0.0041), tensor(0.0020), tensor(0.0020), tensor(0.0051), tensor(0.0065), tensor(0.0053), tensor(0.0070), tensor(0.0046), tensor(0.0053), tensor(0.0019), tensor(0.0070), tensor(0.0048), tensor(0.0066), tensor(0.0033), tensor(0.0036), tensor(0.0088), tensor(0.0024), tensor(0.0035), tensor(0.0064), tensor(0.0036), tensor(0.0019), tensor(0.0053), tensor(0.0054), tensor(0.0027), tensor(0.0028), tensor(0.0073), tensor(0.0015), tensor(0.0039), tensor(0.0052), tensor(0.0034), tensor(0.0021), tensor(0.0072), tensor(0.0057), tensor(0.0023), tensor(0.0054), tensor(0.0052), tensor(0.0023), tensor(0.0114), tensor(0.0036), tensor(0.0060), tensor(0.0041), tensor(0.0030), tensor(0.0091), tensor(0.0045), tensor(0.0029), tensor(0.0028), tensor(0.0042), tensor(0.0064), tensor(0.0056), tensor(0.0035), tensor(0.0032), tensor(0.0023), tensor(0.0022), tensor(0.0091), tensor(0.0045), tensor(0.0035), tensor(0.0030), tensor(0.0019), tensor(0.0063), tensor(0.0058), tensor(0.0045), tensor(0.0029), tensor(0.0051), tensor(0.0098), tensor(0.0023), tensor(0.0068), tensor(0.0024), tensor(0.0082), tensor(0.0056), tensor(0.0032), tensor(0.0039), tensor(0.0028), tensor(0.0038), tensor(0.0055), tensor(0.0094), tensor(0.0034), tensor(0.0059), tensor(0.0033), tensor(0.0070), tensor(0.0090), tensor(0.0079), tensor(0.0025), tensor(0.0018), tensor(0.0046), tensor(0.0045), tensor(0.0081), tensor(0.0090), tensor(0.0043), tensor(0.0055), tensor(2.7418e-06), tensor(0.0046), tensor(0.0042), tensor(0.0009), tensor(0.0063), tensor(0.0054), tensor(0.0042), tensor(0.0025), tensor(0.0053), tensor(0.0026), tensor(0.0020), tensor(0.0046), tensor(0.0087), tensor(0.0084), tensor(0.0079), tensor(0.0044), tensor(0.0017), tensor(0.0061), tensor(0.0077), tensor(0.0038), tensor(0.0042), tensor(0.0072), tensor(0.0049), tensor(0.0052), tensor(0.0070), tensor(0.0029), tensor(0.0051), tensor(0.0043), tensor(0.0078), tensor(0.0092), tensor(0.0076), tensor(0.0011), tensor(0.0086), tensor(0.0029), tensor(0.0071), tensor(0.0045), tensor(0.0040), tensor(0.0040), tensor(0.0139), tensor(0.0060), tensor(0.0034), tensor(0.0039), tensor(0.0088), tensor(0.0038), tensor(0.0067), tensor(0.0019), tensor(0.0048), tensor(0.0026), tensor(0.0034), tensor(0.0050), tensor(0.0041), tensor(0.0065), tensor(0.0032), tensor(0.0121), tensor(0.0058), tensor(0.0022), tensor(0.0066), tensor(0.0120), tensor(0.0035), tensor(0.0024), tensor(0.0084), tensor(0.0069), tensor(0.0043), tensor(0.0051), tensor(0.0059), tensor(0.0063), tensor(0.0052), tensor(0.0029), tensor(0.0019), tensor(0.0029), tensor(0.0029), tensor(0.0036), tensor(0.0031), tensor(0.0027), tensor(0.0036), tensor(0.0044), tensor(0.0025), tensor(0.0035), tensor(0.0025), tensor(0.0024), tensor(0.0034), tensor(0.0033), tensor(0.0039), tensor(0.0032), tensor(0.0022), tensor(0.0054), tensor(0.0036), tensor(0.0048), tensor(0.0023), tensor(0.0053), tensor(0.0079), tensor(0.0015), tensor(0.0033), tensor(0.0015), tensor(0.0036), tensor(0.0019), tensor(0.0034), tensor(0.0047), tensor(0.0056), tensor(0.0049), tensor(0.0058), tensor(0.0053), tensor(0.0025), tensor(0.0030), tensor(0.0041), tensor(0.0013), tensor(0.0068), tensor(0.0026), tensor(0.0041), tensor(0.0038), tensor(0.0023), tensor(0.0033), tensor(0.0035), tensor(0.0013), tensor(0.0031), tensor(0.0032), tensor(0.0037), tensor(0.0031), tensor(0.0049), tensor(0.0055), tensor(0.0059), tensor(0.0039), tensor(0.0034), tensor(0.0053), tensor(0.0019), tensor(0.0064), tensor(0.0017), tensor(0.0059), tensor(0.0039), tensor(0.0016), tensor(0.0028), tensor(0.0013), tensor(0.0023), tensor(0.0062), tensor(0.0042), tensor(0.0024), tensor(0.0041), tensor(0.0026), tensor(0.0019), tensor(0.0039), tensor(0.0032), tensor(0.0024), tensor(0.0058), tensor(0.0070), tensor(0.0016), tensor(0.0017), tensor(0.0046), tensor(0.0022), tensor(0.0020), tensor(0.0016), tensor(0.0035), tensor(0.0039), tensor(0.0021), tensor(0.0059), tensor(0.0023), tensor(0.0026), tensor(0.0034), tensor(0.0035), tensor(0.0045), tensor(0.0050), tensor(0.0048), tensor(0.0023), tensor(0.0035), tensor(0.0041), tensor(0.0037), tensor(0.0035), tensor(0.0032), tensor(0.0032), tensor(0.0037), tensor(0.0044), tensor(0.0038), tensor(0.0033), tensor(0.0033), tensor(0.0047), tensor(0.0027), tensor(0.0044), tensor(0.0042), tensor(0.0022), tensor(0.0042), tensor(0.0031), tensor(0.0030), tensor(0.0022), tensor(0.0038), tensor(0.0021), tensor(0.0025), tensor(0.0035), tensor(0.0026), tensor(0.0065), tensor(0.0015), tensor(0.0018), tensor(0.0028), tensor(0.0052), tensor(0.0070), tensor(0.0032), tensor(0.0029), tensor(0.0055), tensor(0.0056), tensor(0.0030), tensor(0.0027), tensor(0.0041), tensor(0.0034), tensor(0.0024), tensor(0.0030), tensor(0.0060), tensor(0.0059), tensor(0.0027), tensor(0.0045), tensor(0.0014), tensor(0.0027), tensor(0.0042), tensor(0.0025), tensor(0.0034), tensor(0.0038), tensor(0.0052), tensor(0.0046), tensor(0.0057), tensor(0.0041), tensor(0.0054), tensor(0.0013), tensor(0.0062), tensor(0.0029), tensor(0.0027), tensor(0.0029), tensor(0.0041), tensor(0.0047), tensor(0.0053), tensor(0.0026), tensor(0.0055), tensor(0.0025), tensor(0.0077), tensor(0.0047), tensor(0.0036), tensor(0.0066), tensor(0.0083), tensor(0.0059), tensor(0.0040), tensor(0.0030), tensor(0.0019), tensor(0.0049), tensor(0.0103), tensor(0.0063), tensor(0.0075), tensor(0.0031), tensor(0.0044), tensor(0.0053), tensor(0.0038), tensor(0.0054), tensor(0.0024), tensor(0.0009), tensor(0.0010), tensor(0.0043), tensor(0.0036), tensor(0.0030), tensor(0.0041), tensor(0.0031), tensor(0.0027), tensor(0.0015), tensor(0.0034), tensor(0.0022), tensor(0.0049), tensor(0.0023), tensor(0.0014), tensor(0.0017), tensor(0.0060), tensor(0.0021), tensor(0.0046), tensor(0.0016), tensor(0.0053), tensor(0.0048), tensor(0.0017), tensor(0.0012), tensor(0.0038), tensor(0.0017), tensor(0.0021), tensor(0.0031), tensor(0.0039), tensor(0.0037), tensor(0.0026), tensor(0.0020), tensor(0.0033), tensor(0.0035), tensor(0.0005), tensor(0.0048), tensor(0.0030), tensor(0.0033), tensor(0.0025), tensor(0.0037), tensor(0.0020), tensor(0.0012), tensor(0.0067), tensor(0.0036), tensor(0.0014), tensor(0.0016), tensor(0.0036), tensor(0.0043), tensor(0.0041), tensor(0.0053), tensor(0.0034), tensor(0.0047), tensor(0.0016), tensor(0.0045), tensor(0.0036), tensor(0.0050), tensor(0.0026), tensor(0.0027), tensor(0.0067), tensor(0.0020), tensor(0.0027), tensor(0.0043), tensor(0.0029), tensor(0.0014), tensor(0.0041), tensor(0.0039), tensor(0.0020), tensor(0.0024), tensor(0.0050), tensor(0.0014), tensor(0.0029), tensor(0.0037), tensor(0.0026), tensor(0.0018), tensor(0.0051), tensor(0.0042), tensor(0.0019), tensor(0.0045), tensor(0.0035), tensor(0.0018), tensor(0.0088), tensor(0.0026), tensor(0.0046), tensor(0.0026), tensor(0.0024), tensor(0.0055), tensor(0.0032), tensor(0.0023), tensor(0.0024), tensor(0.0026), tensor(0.0045), tensor(0.0040), tensor(0.0024), tensor(0.0021), tensor(0.0016), tensor(0.0016), tensor(0.0060), tensor(0.0033), tensor(0.0027), tensor(0.0022), tensor(0.0014), tensor(0.0042), tensor(0.0044), tensor(0.0031), tensor(0.0025), tensor(0.0035), tensor(0.0073), tensor(0.0017), tensor(0.0056), tensor(0.0018), tensor(0.0063), tensor(0.0041), tensor(0.0028), tensor(0.0029), tensor(0.0022), tensor(0.0026), tensor(0.0040), tensor(0.0064), tensor(0.0028), tensor(0.0048), tensor(0.0023), tensor(0.0049), tensor(0.0063), tensor(0.0047), tensor(0.0022), tensor(0.0013), tensor(0.0035), tensor(0.0033), tensor(0.0061), tensor(0.0065), tensor(0.0032), tensor(0.0038), tensor(1.6689e-06), tensor(0.0035), tensor(0.0030), tensor(0.0006), tensor(0.0047), tensor(0.0040), tensor(0.0034), tensor(0.0022), tensor(0.0042), tensor(0.0016), tensor(0.0012), tensor(0.0036), tensor(0.0074), tensor(0.0066), tensor(0.0047), tensor(0.0035), tensor(0.0013), tensor(0.0040), tensor(0.0050), tensor(0.0032), tensor(0.0038), tensor(0.0044), tensor(0.0033), tensor(0.0042), tensor(0.0051), tensor(0.0021), tensor(0.0034), tensor(0.0034), tensor(0.0052), tensor(0.0074), tensor(0.0060), tensor(0.0009), tensor(0.0068), tensor(0.0023), tensor(0.0058), tensor(0.0031), tensor(0.0026), tensor(0.0033), tensor(0.0117), tensor(0.0047), tensor(0.0032), tensor(0.0035), tensor(0.0062), tensor(0.0029), tensor(0.0042), tensor(0.0015), tensor(0.0038), tensor(0.0019), tensor(0.0028), tensor(0.0035), tensor(0.0033), tensor(0.0041), tensor(0.0028), tensor(0.0079), tensor(0.0042), tensor(0.0016), tensor(0.0045), tensor(0.0086), tensor(0.0026), tensor(0.0021), tensor(0.0063), tensor(0.0054), tensor(0.0036), tensor(0.0038), tensor(0.0044), tensor(0.0052), tensor(0.0040), tensor(0.0024), tensor(0.0015), tensor(0.0022), tensor(0.0023), tensor(0.0032), tensor(0.0021), tensor(0.0026), tensor(0.0024), tensor(0.0036), tensor(0.0020), tensor(0.0027), tensor(0.0019), tensor(0.0019), tensor(0.0022), tensor(0.0029), tensor(0.0028), tensor(0.0026), tensor(0.0017), tensor(0.0037), tensor(0.0034), tensor(0.0038), tensor(0.0021), tensor(0.0036), tensor(0.0048), tensor(0.0014), tensor(0.0027), tensor(0.0013), tensor(0.0030), tensor(0.0016), tensor(0.0029), tensor(0.0035), tensor(0.0042), tensor(0.0040), tensor(0.0045), tensor(0.0040), tensor(0.0021), tensor(0.0023), tensor(0.0039), tensor(0.0012), tensor(0.0049), tensor(0.0020), tensor(0.0035), tensor(0.0033), tensor(0.0018), tensor(0.0031), tensor(0.0034), tensor(0.0012), tensor(0.0028), tensor(0.0028), tensor(0.0031), tensor(0.0028), tensor(0.0041), tensor(0.0043), tensor(0.0048), tensor(0.0033), tensor(0.0029), tensor(0.0040), tensor(0.0015), tensor(0.0054), tensor(0.0013), tensor(0.0048), tensor(0.0029), tensor(0.0012), tensor(0.0022), tensor(0.0011), tensor(0.0018), tensor(0.0052), tensor(0.0034), tensor(0.0019), tensor(0.0034), tensor(0.0020), tensor(0.0017), tensor(0.0033), tensor(0.0025), tensor(0.0018), tensor(0.0046), tensor(0.0057), tensor(0.0012), tensor(0.0013), tensor(0.0035), tensor(0.0018), tensor(0.0016), tensor(0.0012), tensor(0.0025), tensor(0.0031), tensor(0.0017), tensor(0.0042), tensor(0.0020), tensor(0.0021), tensor(0.0026), tensor(0.0028), tensor(0.0039), tensor(0.0042), tensor(0.0040), tensor(0.0019), tensor(0.0029), tensor(0.0035), tensor(0.0031), tensor(0.0028), tensor(0.0027), tensor(0.0025), tensor(0.0030), tensor(0.0035), tensor(0.0032), tensor(0.0027), tensor(0.0026), tensor(0.0040), tensor(0.0024), tensor(0.0034), tensor(0.0035), tensor(0.0018), tensor(0.0033), tensor(0.0024), tensor(0.0026), tensor(0.0018), tensor(0.0032), tensor(0.0017), tensor(0.0022), tensor(0.0028), tensor(0.0022), tensor(0.0050), tensor(0.0012), tensor(0.0015), tensor(0.0023), tensor(0.0043), tensor(0.0058), tensor(0.0025), tensor(0.0024), tensor(0.0046), tensor(0.0046), tensor(0.0024), tensor(0.0022), tensor(0.0034), tensor(0.0028), tensor(0.0019), tensor(0.0023), tensor(0.0047), tensor(0.0048), tensor(0.0022), tensor(0.0036), tensor(0.0011), tensor(0.0024), tensor(0.0033), tensor(0.0019), tensor(0.0026), tensor(0.0031), tensor(0.0039), tensor(0.0035), tensor(0.0045), tensor(0.0032), tensor(0.0040), tensor(0.0011), tensor(0.0046), tensor(0.0023), tensor(0.0023), tensor(0.0021), tensor(0.0032), tensor(0.0037), tensor(0.0042), tensor(0.0021), tensor(0.0040), tensor(0.0020), tensor(0.0060), tensor(0.0039), tensor(0.0025), tensor(0.0050), tensor(0.0066), tensor(0.0044), tensor(0.0031), tensor(0.0023), tensor(0.0015), tensor(0.0040), tensor(0.0075), tensor(0.0049), tensor(0.0057), tensor(0.0023), tensor(0.0039), tensor(0.0043), tensor(0.0031), tensor(0.0041), tensor(0.0021), tensor(0.0008), tensor(0.0008), tensor(0.0038), tensor(0.0027), tensor(0.0024), tensor(0.0035), tensor(0.0023), tensor(0.0022), tensor(0.0012), tensor(0.0027), tensor(0.0018), tensor(0.0039), tensor(0.0018), tensor(0.0011), tensor(0.0013), tensor(0.0049), tensor(0.0016), tensor(0.0039), tensor(0.0012), tensor(0.0042), tensor(0.0038), tensor(0.0014), tensor(0.0011), tensor(0.0032), tensor(0.0013), tensor(0.0016), tensor(0.0025), tensor(0.0033), tensor(0.0029), tensor(0.0022), tensor(0.0018), tensor(0.0028), tensor(0.0029), tensor(0.0004), tensor(0.0039), tensor(0.0024), tensor(0.0027), tensor(0.0021), tensor(0.0029), tensor(0.0017), tensor(0.0010), tensor(0.0057), tensor(0.0032), tensor(0.0011), tensor(0.0014), tensor(0.0027), tensor(0.0032), tensor(0.0033), tensor(0.0040), tensor(0.0027), tensor(0.0041), tensor(0.0014), tensor(0.0033), tensor(0.0030), tensor(0.0040), tensor(0.0022), tensor(0.0023), tensor(0.0054), tensor(0.0017), tensor(0.0023), tensor(0.0032), tensor(0.0024), tensor(0.0012), tensor(0.0034), tensor(0.0031), tensor(0.0017), tensor(0.0021), tensor(0.0039), tensor(0.0012), tensor(0.0023), tensor(0.0028), tensor(0.0021), tensor(0.0016), tensor(0.0040), tensor(0.0034), tensor(0.0015), tensor(0.0037), tensor(0.0026), tensor(0.0014), tensor(0.0062), tensor(0.0021), tensor(0.0037), tensor(0.0020), tensor(0.0019), tensor(0.0042), tensor(0.0025), tensor(0.0019), tensor(0.0020), tensor(0.0019), tensor(0.0035), tensor(0.0032), tensor(0.0018), tensor(0.0015), tensor(0.0013), tensor(0.0012), tensor(0.0044), tensor(0.0026), tensor(0.0023), tensor(0.0018), tensor(0.0011), tensor(0.0033), tensor(0.0036), tensor(0.0022), tensor(0.0022), tensor(0.0025), tensor(0.0058), tensor(0.0013), tensor(0.0044), tensor(0.0014), tensor(0.0048), tensor(0.0031), tensor(0.0025), tensor(0.0023), tensor(0.0018), tensor(0.0020), tensor(0.0033), tensor(0.0048), tensor(0.0024), tensor(0.0041), tensor(0.0018), tensor(0.0039), tensor(0.0049), tensor(0.0032), tensor(0.0020), tensor(0.0010), tensor(0.0027), tensor(0.0027), tensor(0.0047), tensor(0.0048), tensor(0.0024), tensor(0.0028), tensor(9.5367e-07), tensor(0.0028), tensor(0.0023), tensor(0.0005), tensor(0.0035), tensor(0.0031), tensor(0.0026), tensor(0.0020), tensor(0.0031), tensor(0.0012), tensor(0.0009), tensor(0.0030), tensor(0.0061), tensor(0.0051), tensor(0.0033), tensor(0.0031), tensor(0.0010), tensor(0.0032), tensor(0.0037), tensor(0.0031), tensor(0.0037), tensor(0.0030), tensor(0.0025), tensor(0.0036), tensor(0.0039), tensor(0.0017), tensor(0.0024), tensor(0.0028), tensor(0.0039), tensor(0.0055), tensor(0.0042), tensor(0.0008), tensor(0.0047), tensor(0.0017), tensor(0.0043), tensor(0.0023), tensor(0.0020), tensor(0.0024), tensor(0.0092), tensor(0.0039), tensor(0.0027), tensor(0.0030), tensor(0.0048), tensor(0.0025), tensor(0.0029), tensor(0.0013), tensor(0.0032), tensor(0.0016), tensor(0.0024), tensor(0.0031), tensor(0.0032), tensor(0.0027), tensor(0.0029), tensor(0.0058), tensor(0.0035), tensor(0.0014), tensor(0.0032), tensor(0.0060), tensor(0.0019), tensor(0.0017), tensor(0.0045), tensor(0.0038), tensor(0.0027), tensor(0.0032), tensor(0.0032), tensor(0.0040), tensor(0.0032), tensor(0.0021), tensor(0.0012), tensor(0.0017), tensor(0.0020), tensor(0.0028), tensor(0.0017), tensor(0.0024), tensor(0.0019), tensor(0.0030), tensor(0.0017), tensor(0.0022), tensor(0.0016), tensor(0.0016), tensor(0.0016), tensor(0.0028), tensor(0.0022), tensor(0.0024), tensor(0.0016), tensor(0.0026), tensor(0.0033), tensor(0.0033), tensor(0.0021), tensor(0.0026), tensor(0.0032), tensor(0.0015), tensor(0.0023), tensor(0.0013), tensor(0.0025), tensor(0.0013), tensor(0.0023), tensor(0.0027), tensor(0.0032), tensor(0.0033), tensor(0.0034), tensor(0.0032), tensor(0.0018), tensor(0.0019), tensor(0.0034), tensor(0.0011), tensor(0.0040), tensor(0.0017), tensor(0.0029), tensor(0.0031), tensor(0.0016), tensor(0.0029), tensor(0.0034), tensor(0.0011), tensor(0.0026), tensor(0.0025), tensor(0.0027), tensor(0.0025), tensor(0.0037), tensor(0.0035), tensor(0.0040), tensor(0.0029), tensor(0.0026), tensor(0.0032), tensor(0.0013), tensor(0.0045), tensor(0.0011), tensor(0.0041), tensor(0.0025), tensor(0.0010), tensor(0.0018), tensor(0.0009), tensor(0.0015), tensor(0.0046), tensor(0.0029), tensor(0.0015), tensor(0.0030), tensor(0.0016), tensor(0.0015), tensor(0.0028), tensor(0.0020), tensor(0.0014), tensor(0.0037), tensor(0.0046), tensor(0.0010), tensor(0.0010), tensor(0.0029), tensor(0.0016), tensor(0.0013), tensor(0.0010), tensor(0.0020), tensor(0.0025), tensor(0.0014), tensor(0.0033), tensor(0.0017), tensor(0.0017), tensor(0.0023), tensor(0.0024), tensor(0.0034), tensor(0.0037), tensor(0.0035), tensor(0.0017), tensor(0.0024), tensor(0.0030), tensor(0.0027), tensor(0.0023), tensor(0.0024), tensor(0.0020), tensor(0.0024), tensor(0.0029), tensor(0.0027), tensor(0.0022), tensor(0.0022), tensor(0.0035), tensor(0.0022), tensor(0.0027), tensor(0.0031), tensor(0.0016), tensor(0.0027), tensor(0.0019), tensor(0.0023), tensor(0.0015), tensor(0.0027), tensor(0.0014), tensor(0.0020), tensor(0.0025), tensor(0.0020), tensor(0.0043), tensor(0.0009), tensor(0.0013), tensor(0.0019), tensor(0.0035), tensor(0.0049), tensor(0.0021), tensor(0.0020), tensor(0.0038), tensor(0.0038), tensor(0.0020), tensor(0.0019), tensor(0.0029), tensor(0.0024), tensor(0.0016), tensor(0.0020), tensor(0.0040), tensor(0.0040), tensor(0.0018), tensor(0.0028), tensor(0.0009), tensor(0.0020), tensor(0.0027), tensor(0.0014), tensor(0.0021), tensor(0.0026), tensor(0.0030), tensor(0.0030), tensor(0.0038), tensor(0.0026), tensor(0.0033), tensor(0.0009), tensor(0.0037), tensor(0.0020), tensor(0.0020), tensor(0.0016), tensor(0.0026), tensor(0.0030), tensor(0.0034), tensor(0.0018), tensor(0.0032), tensor(0.0017), tensor(0.0050), tensor(0.0032), tensor(0.0019), tensor(0.0041), tensor(0.0053), tensor(0.0035), tensor(0.0025), tensor(0.0020), tensor(0.0013), tensor(0.0033), tensor(0.0055), tensor(0.0042), tensor(0.0045), tensor(0.0019), tensor(0.0033), tensor(0.0036), tensor(0.0027), tensor(0.0032), tensor(0.0019), tensor(0.0006), tensor(0.0007), tensor(0.0032), tensor(0.0022), tensor(0.0019), tensor(0.0030), tensor(0.0018), tensor(0.0019), tensor(0.0009), tensor(0.0023), tensor(0.0016), tensor(0.0034), tensor(0.0015), tensor(0.0008), tensor(0.0011), tensor(0.0042), tensor(0.0014), tensor(0.0031), tensor(0.0010), tensor(0.0034), tensor(0.0033), tensor(0.0012), tensor(0.0010), tensor(0.0028), tensor(0.0011), tensor(0.0014), tensor(0.0021), tensor(0.0027), tensor(0.0026), tensor(0.0018), tensor(0.0015), tensor(0.0024), tensor(0.0026), tensor(0.0003), tensor(0.0034), tensor(0.0021), tensor(0.0022), tensor(0.0018), tensor(0.0024), tensor(0.0015), tensor(0.0009), tensor(0.0049), tensor(0.0028), tensor(0.0009), tensor(0.0011), tensor(0.0022), tensor(0.0025), tensor(0.0028), tensor(0.0032), tensor(0.0023), tensor(0.0037), tensor(0.0011), tensor(0.0027), tensor(0.0025), tensor(0.0033), tensor(0.0019), tensor(0.0018), tensor(0.0046), tensor(0.0015), tensor(0.0019), tensor(0.0025), tensor(0.0021), tensor(0.0011), tensor(0.0028), tensor(0.0025), tensor(0.0015), tensor(0.0020), tensor(0.0032), tensor(0.0011), tensor(0.0019), tensor(0.0022), tensor(0.0018), tensor(0.0014), tensor(0.0035), tensor(0.0028), tensor(0.0013), tensor(0.0032), tensor(0.0020), tensor(0.0012), tensor(0.0047), tensor(0.0018), tensor(0.0032), tensor(0.0017), tensor(0.0017), tensor(0.0032), tensor(0.0022), tensor(0.0016), tensor(0.0018), tensor(0.0014), tensor(0.0029), tensor(0.0027), tensor(0.0015), tensor(0.0012), tensor(0.0010), tensor(0.0010), tensor(0.0034), tensor(0.0021), tensor(0.0020), tensor(0.0014), tensor(0.0009), tensor(0.0027), tensor(0.0029), tensor(0.0017), tensor(0.0019), tensor(0.0019), tensor(0.0047), tensor(0.0011), tensor(0.0035), tensor(0.0012), tensor(0.0037), tensor(0.0025), tensor(0.0022), tensor(0.0018), tensor(0.0015), tensor(0.0017), tensor(0.0028), tensor(0.0039), tensor(0.0020), tensor(0.0036), tensor(0.0014), tensor(0.0032), tensor(0.0040), tensor(0.0024), tensor(0.0018), tensor(0.0008), tensor(0.0023), tensor(0.0023), tensor(0.0038), tensor(0.0038), tensor(0.0021), tensor(0.0023), tensor(4.7684e-07), tensor(0.0024), tensor(0.0019), tensor(0.0004), tensor(0.0026), tensor(0.0025), tensor(0.0020), tensor(0.0017), tensor(0.0024), tensor(0.0010), tensor(0.0008), tensor(0.0025), tensor(0.0051), tensor(0.0041), tensor(0.0026), tensor(0.0027), tensor(0.0009), tensor(0.0026), tensor(0.0029), tensor(0.0028), tensor(0.0035), tensor(0.0022), tensor(0.0022), tensor(0.0033), tensor(0.0032), tensor(0.0015), tensor(0.0019), tensor(0.0024), tensor(0.0033), tensor(0.0042), tensor(0.0031), tensor(0.0006), tensor(0.0033), tensor(0.0013), tensor(0.0031), tensor(0.0019), tensor(0.0017), tensor(0.0019), tensor(0.0068), tensor(0.0034), tensor(0.0021), tensor(0.0024), tensor(0.0039), tensor(0.0022), tensor(0.0024), tensor(0.0011), tensor(0.0024), tensor(0.0015), tensor(0.0022), tensor(0.0030), tensor(0.0030), tensor(0.0020), tensor(0.0030), tensor(0.0046), tensor(0.0030), tensor(0.0012), tensor(0.0024), tensor(0.0046), tensor(0.0015), tensor(0.0014), tensor(0.0033), tensor(0.0028), tensor(0.0020), tensor(0.0027), tensor(0.0023), tensor(0.0029), tensor(0.0029), tensor(0.0018), tensor(0.0011), tensor(0.0013), tensor(0.0016), tensor(0.0025), tensor(0.0016), tensor(0.0020), tensor(0.0017), tensor(0.0025), tensor(0.0014), tensor(0.0018), tensor(0.0014), tensor(0.0014), tensor(0.0013), tensor(0.0026), tensor(0.0017), tensor(0.0023), tensor(0.0015), tensor(0.0022), tensor(0.0033), tensor(0.0031), tensor(0.0021), tensor(0.0020), tensor(0.0023), tensor(0.0016), tensor(0.0021), tensor(0.0012), tensor(0.0021), tensor(0.0011), tensor(0.0019), tensor(0.0021), tensor(0.0026), tensor(0.0028), tensor(0.0026), tensor(0.0026), tensor(0.0015), tensor(0.0017), tensor(0.0029), tensor(0.0010), tensor(0.0034), tensor(0.0015), tensor(0.0025), tensor(0.0029), tensor(0.0014), tensor(0.0026), tensor(0.0032), tensor(0.0010), tensor(0.0023), tensor(0.0021), tensor(0.0024), tensor(0.0021), tensor(0.0033), tensor(0.0029), tensor(0.0034), tensor(0.0025), tensor(0.0024), tensor(0.0027), tensor(0.0010), tensor(0.0037), tensor(0.0010), tensor(0.0036), tensor(0.0022), tensor(0.0008), tensor(0.0016), tensor(0.0007), tensor(0.0013), tensor(0.0042), tensor(0.0025), tensor(0.0011), tensor(0.0025), tensor(0.0013), tensor(0.0015), tensor(0.0023), tensor(0.0017), tensor(0.0012), tensor(0.0031), tensor(0.0040), tensor(0.0008), tensor(0.0008), tensor(0.0024), tensor(0.0014), tensor(0.0011), tensor(0.0008), tensor(0.0017), tensor(0.0021), tensor(0.0012), tensor(0.0026), tensor(0.0015), tensor(0.0014), tensor(0.0020), tensor(0.0021), tensor(0.0030), tensor(0.0033), tensor(0.0030), tensor(0.0016), tensor(0.0022), tensor(0.0026), tensor(0.0024), tensor(0.0021), tensor(0.0022), tensor(0.0017), tensor(0.0020), tensor(0.0024), tensor(0.0024), tensor(0.0018), tensor(0.0017), tensor(0.0031), tensor(0.0020), tensor(0.0022), tensor(0.0028), tensor(0.0015), tensor(0.0022), tensor(0.0016), tensor(0.0020), tensor(0.0014), tensor(0.0024), tensor(0.0012), tensor(0.0018), tensor(0.0022), tensor(0.0018), tensor(0.0037), tensor(0.0007), tensor(0.0011), tensor(0.0017), tensor(0.0030), tensor(0.0039), tensor(0.0017), tensor(0.0018), tensor(0.0032), tensor(0.0032), tensor(0.0018), tensor(0.0016), tensor(0.0026), tensor(0.0021), tensor(0.0013), tensor(0.0018), tensor(0.0032), tensor(0.0034), tensor(0.0016), tensor(0.0023), tensor(0.0008), tensor(0.0015), tensor(0.0022), tensor(0.0011), tensor(0.0018), tensor(0.0024), tensor(0.0023), tensor(0.0028), tensor(0.0033), tensor(0.0022), tensor(0.0026), tensor(0.0008), tensor(0.0030), tensor(0.0019), tensor(0.0017), tensor(0.0012), tensor(0.0021), tensor(0.0024), tensor(0.0029), tensor(0.0016), tensor(0.0026), tensor(0.0014), tensor(0.0042), tensor(0.0027), tensor(0.0015), tensor(0.0035), tensor(0.0046), tensor(0.0030), tensor(0.0020), tensor(0.0017), tensor(0.0011), tensor(0.0030), tensor(0.0044), tensor(0.0035), tensor(0.0036), tensor(0.0016), tensor(0.0029), tensor(0.0030), tensor(0.0022), tensor(0.0026), tensor(0.0018), tensor(0.0005), tensor(0.0006), tensor(0.0027), tensor(0.0018), tensor(0.0015), tensor(0.0025), tensor(0.0015), tensor(0.0016), tensor(0.0007), tensor(0.0020), tensor(0.0013), tensor(0.0029), tensor(0.0012), tensor(0.0007), tensor(0.0009), tensor(0.0037), tensor(0.0012), tensor(0.0028), tensor(0.0008), tensor(0.0030), tensor(0.0028), tensor(0.0010), tensor(0.0009), tensor(0.0025), tensor(0.0009), tensor(0.0011), tensor(0.0018), tensor(0.0023), tensor(0.0022), tensor(0.0015), tensor(0.0013), tensor(0.0020), tensor(0.0024), tensor(0.0002), tensor(0.0030), tensor(0.0018), tensor(0.0018), tensor(0.0016), tensor(0.0021), tensor(0.0013), tensor(0.0008), tensor(0.0042), tensor(0.0025), tensor(0.0007), tensor(0.0010), tensor(0.0018), tensor(0.0019), tensor(0.0024), tensor(0.0026), tensor(0.0019), tensor(0.0029), tensor(0.0010), tensor(0.0023), tensor(0.0022), tensor(0.0028), tensor(0.0016), tensor(0.0016), tensor(0.0040), tensor(0.0014), tensor(0.0017), tensor(0.0021), tensor(0.0017), tensor(0.0010), tensor(0.0024), tensor(0.0020), tensor(0.0012), tensor(0.0018), tensor(0.0027), tensor(0.0009), tensor(0.0016), tensor(0.0019), tensor(0.0014), tensor(0.0012), tensor(0.0031), tensor(0.0023), tensor(0.0011), tensor(0.0028), tensor(0.0016), tensor(0.0011), tensor(0.0036), tensor(0.0016), tensor(0.0028), tensor(0.0015), tensor(0.0014), tensor(0.0026), tensor(0.0019), tensor(0.0014), tensor(0.0015), tensor(0.0011), tensor(0.0024), tensor(0.0024), tensor(0.0012), tensor(0.0009), tensor(0.0008), tensor(0.0008), tensor(0.0027), tensor(0.0018), tensor(0.0018), tensor(0.0012), tensor(0.0008), tensor(0.0024), tensor(0.0023), tensor(0.0014), tensor(0.0017), tensor(0.0016), tensor(0.0042), tensor(0.0009), tensor(0.0030), tensor(0.0010), tensor(0.0029), tensor(0.0021), tensor(0.0020), tensor(0.0016), tensor(0.0013), tensor(0.0015), tensor(0.0025), tensor(0.0033), tensor(0.0017), tensor(0.0030), tensor(0.0012), tensor(0.0027), tensor(0.0033), tensor(0.0019), tensor(0.0016), tensor(0.0006), tensor(0.0019), tensor(0.0020), tensor(0.0032), tensor(0.0032), tensor(0.0018), tensor(0.0019), tensor(2.3842e-07), tensor(0.0020), tensor(0.0016), tensor(0.0004), tensor(0.0020), tensor(0.0021), tensor(0.0016), tensor(0.0015), tensor(0.0019), tensor(0.0009), tensor(0.0007), tensor(0.0022), tensor(0.0042), tensor(0.0033), tensor(0.0022), tensor(0.0023), tensor(0.0007), tensor(0.0022), tensor(0.0024), tensor(0.0025), tensor(0.0032), tensor(0.0019), tensor(0.0018), tensor(0.0029), tensor(0.0028), tensor(0.0013), tensor(0.0015), tensor(0.0022), tensor(0.0028), tensor(0.0035), tensor(0.0025), tensor(0.0005), tensor(0.0026), tensor(0.0011), tensor(0.0023), tensor(0.0017), tensor(0.0017), tensor(0.0014), tensor(0.0048), tensor(0.0031), tensor(0.0016), tensor(0.0020), tensor(0.0032), tensor(0.0019), tensor(0.0023), tensor(0.0009), tensor(0.0019), tensor(0.0012), tensor(0.0020), tensor(0.0026), tensor(0.0025), tensor(0.0018), tensor(0.0027), tensor(0.0039), tensor(0.0026), tensor(0.0010), tensor(0.0019), tensor(0.0036), tensor(0.0013), tensor(0.0012), tensor(0.0025), tensor(0.0023), tensor(0.0015), tensor(0.0025), tensor(0.0018), tensor(0.0024), tensor(0.0027), tensor(0.0017), tensor(0.0010), tensor(0.0010), tensor(0.0013), tensor(0.0023), tensor(0.0017), tensor(0.0015), tensor(0.0018), tensor(0.0019), tensor(0.0012), tensor(0.0014), tensor(0.0013), tensor(0.0011), tensor(0.0011), tensor(0.0021), tensor(0.0013), tensor(0.0021), tensor(0.0015), tensor(0.0019), tensor(0.0029), tensor(0.0029), tensor(0.0022), tensor(0.0016), tensor(0.0019), tensor(0.0016), tensor(0.0018), tensor(0.0012), tensor(0.0019), tensor(0.0010), tensor(0.0017), tensor(0.0016), tensor(0.0022), tensor(0.0023), tensor(0.0021), tensor(0.0025), tensor(0.0012), tensor(0.0015), tensor(0.0024), tensor(0.0009), tensor(0.0030), tensor(0.0013), tensor(0.0021), tensor(0.0025), tensor(0.0011), tensor(0.0021), tensor(0.0028), tensor(0.0009), tensor(0.0021), tensor(0.0018), tensor(0.0020), tensor(0.0018), tensor(0.0029), tensor(0.0025), tensor(0.0029), tensor(0.0021), tensor(0.0023), tensor(0.0023), tensor(0.0008), tensor(0.0030), tensor(0.0009), tensor(0.0032), tensor(0.0020), tensor(0.0007), tensor(0.0012), tensor(0.0007), tensor(0.0012), tensor(0.0037), tensor(0.0023), tensor(0.0008), tensor(0.0022), tensor(0.0010), tensor(0.0014), tensor(0.0017), tensor(0.0016), tensor(0.0010), tensor(0.0026), tensor(0.0034), tensor(0.0006), tensor(0.0006), tensor(0.0021), tensor(0.0012), tensor(0.0009), tensor(0.0007), tensor(0.0014), tensor(0.0018), tensor(0.0011), tensor(0.0019), tensor(0.0015), tensor(0.0012), tensor(0.0017), tensor(0.0017), tensor(0.0027), tensor(0.0032), tensor(0.0026), tensor(0.0014), tensor(0.0019), tensor(0.0021), tensor(0.0021), tensor(0.0019), tensor(0.0020), tensor(0.0015), tensor(0.0018), tensor(0.0020), tensor(0.0020), tensor(0.0015), tensor(0.0014), tensor(0.0027), tensor(0.0018), tensor(0.0018), tensor(0.0027), tensor(0.0014), tensor(0.0019), tensor(0.0014), tensor(0.0017), tensor(0.0013), tensor(0.0020), tensor(0.0011), tensor(0.0016), tensor(0.0019), tensor(0.0015), tensor(0.0031), tensor(0.0006), tensor(0.0010), tensor(0.0014), tensor(0.0025), tensor(0.0031), tensor(0.0014), tensor(0.0015), tensor(0.0029), tensor(0.0027), tensor(0.0016), tensor(0.0015), tensor(0.0023), tensor(0.0020), tensor(0.0012), tensor(0.0017), tensor(0.0027), tensor(0.0028), tensor(0.0014), tensor(0.0020), tensor(0.0007), tensor(0.0013), tensor(0.0018), tensor(0.0009), tensor(0.0016), tensor(0.0021), tensor(0.0019), tensor(0.0025), tensor(0.0028), tensor(0.0018), tensor(0.0023), tensor(0.0007), tensor(0.0026), tensor(0.0017), tensor(0.0016), tensor(0.0010), tensor(0.0018), tensor(0.0020), tensor(0.0024), tensor(0.0013), tensor(0.0021), tensor(0.0012), tensor(0.0035), tensor(0.0023), tensor(0.0013), tensor(0.0030), tensor(0.0039), tensor(0.0027), tensor(0.0017), tensor(0.0014), tensor(0.0010), tensor(0.0026), tensor(0.0038), tensor(0.0030), tensor(0.0029), tensor(0.0015), tensor(0.0024), tensor(0.0026), tensor(0.0018), tensor(0.0023), tensor(0.0016), tensor(0.0004), tensor(0.0005), tensor(0.0024), tensor(0.0015), tensor(0.0012), tensor(0.0020), tensor(0.0013), tensor(0.0014), tensor(0.0006), tensor(0.0016), tensor(0.0012), tensor(0.0025), tensor(0.0011), tensor(0.0006), tensor(0.0008), tensor(0.0033), tensor(0.0011), tensor(0.0024), tensor(0.0006), tensor(0.0025), tensor(0.0026), tensor(0.0010), tensor(0.0009), tensor(0.0022), tensor(0.0007), tensor(0.0010), tensor(0.0016), tensor(0.0021), tensor(0.0019), tensor(0.0013), tensor(0.0012), tensor(0.0018), tensor(0.0023), tensor(0.0002), tensor(0.0025), tensor(0.0015), tensor(0.0015), tensor(0.0014), tensor(0.0019), tensor(0.0012), tensor(0.0007), tensor(0.0036), tensor(0.0024), tensor(0.0005), tensor(0.0009), tensor(0.0015), tensor(0.0016), tensor(0.0019), tensor(0.0021), tensor(0.0015), tensor(0.0025), tensor(0.0008), tensor(0.0019), tensor(0.0020), tensor(0.0024), tensor(0.0015), tensor(0.0014), tensor(0.0037), tensor(0.0012), tensor(0.0015), tensor(0.0018), tensor(0.0015), tensor(0.0009), tensor(0.0020), tensor(0.0017), tensor(0.0010), tensor(0.0016), tensor(0.0023), tensor(0.0008), tensor(0.0015), tensor(0.0017), tensor(0.0012), tensor(0.0010), tensor(0.0026), tensor(0.0020), tensor(0.0009), tensor(0.0024), tensor(0.0013), tensor(0.0010), tensor(0.0029), tensor(0.0014), tensor(0.0026), tensor(0.0012), tensor(0.0013), tensor(0.0023), tensor(0.0017), tensor(0.0013), tensor(0.0013), tensor(0.0009), tensor(0.0021), tensor(0.0021), tensor(0.0010), tensor(0.0008), tensor(0.0007), tensor(0.0007), tensor(0.0023), tensor(0.0015), tensor(0.0015), tensor(0.0011), tensor(0.0007), tensor(0.0022), tensor(0.0020), tensor(0.0012), tensor(0.0016), tensor(0.0013), tensor(0.0035), tensor(0.0007), tensor(0.0026), tensor(0.0008), tensor(0.0024), tensor(0.0018), tensor(0.0017), tensor(0.0014), tensor(0.0012), tensor(0.0014), tensor(0.0021), tensor(0.0029), tensor(0.0014), tensor(0.0027), tensor(0.0010), tensor(0.0025), tensor(0.0027), tensor(0.0014), tensor(0.0015), tensor(0.0006), tensor(0.0016), tensor(0.0018), tensor(0.0027), tensor(0.0028), tensor(0.0016), tensor(0.0016), tensor(1.1921e-07), tensor(0.0019), tensor(0.0014), tensor(0.0004), tensor(0.0017), tensor(0.0018), tensor(0.0014), tensor(0.0013), tensor(0.0016), tensor(0.0008), tensor(0.0006), tensor(0.0019), tensor(0.0037), tensor(0.0029), tensor(0.0020), tensor(0.0019), tensor(0.0006), tensor(0.0020), tensor(0.0021), tensor(0.0021), tensor(0.0028), tensor(0.0017), tensor(0.0017), tensor(0.0027), tensor(0.0024), tensor(0.0011), tensor(0.0013), tensor(0.0020), tensor(0.0023), tensor(0.0029), tensor(0.0021), tensor(0.0004), tensor(0.0021), tensor(0.0009), tensor(0.0018), tensor(0.0017), tensor(0.0016), tensor(0.0012), tensor(0.0039), tensor(0.0027), tensor(0.0013), tensor(0.0015), tensor(0.0025), tensor(0.0016), tensor(0.0021), tensor(0.0007), tensor(0.0016), tensor(0.0010), tensor(0.0018), tensor(0.0022), tensor(0.0021), tensor(0.0017), tensor(0.0022), tensor(0.0033), tensor(0.0022), tensor(0.0009), tensor(0.0016), tensor(0.0031), tensor(0.0012), tensor(0.0011), tensor(0.0022), tensor(0.0020), tensor(0.0012), tensor(0.0022), tensor(0.0015), tensor(0.0021), tensor(0.0026), tensor(0.0016), tensor(0.0010), tensor(0.0008), tensor(0.0012), tensor(0.0020), tensor(0.0018), tensor(0.0011), tensor(0.0019), tensor(0.0016), tensor(0.0010), tensor(0.0012), tensor(0.0012), tensor(0.0010), tensor(0.0010), tensor(0.0016), tensor(0.0010), tensor(0.0017), tensor(0.0014), tensor(0.0016), tensor(0.0023), tensor(0.0027), tensor(0.0019), tensor(0.0014), tensor(0.0016), tensor(0.0015), tensor(0.0016), tensor(0.0011), tensor(0.0016), tensor(0.0010), tensor(0.0014), tensor(0.0013), tensor(0.0020), tensor(0.0020), tensor(0.0017), tensor(0.0024), tensor(0.0010), tensor(0.0014), tensor(0.0018), tensor(0.0008), tensor(0.0027), tensor(0.0012), tensor(0.0018), tensor(0.0023), tensor(0.0009), tensor(0.0018), tensor(0.0024), tensor(0.0008), tensor(0.0019), tensor(0.0015), tensor(0.0017), tensor(0.0018), tensor(0.0026), tensor(0.0022), tensor(0.0026), tensor(0.0020), tensor(0.0020), tensor(0.0021), tensor(0.0007), tensor(0.0025), tensor(0.0008), tensor(0.0027), tensor(0.0018), tensor(0.0006), tensor(0.0010), tensor(0.0006), tensor(0.0011), tensor(0.0033), tensor(0.0022), tensor(0.0006), tensor(0.0018), tensor(0.0008), tensor(0.0014), tensor(0.0015), tensor(0.0014), tensor(0.0009), tensor(0.0022), tensor(0.0029), tensor(0.0005), tensor(0.0005), tensor(0.0019), tensor(0.0010), tensor(0.0008), tensor(0.0007), tensor(0.0012), tensor(0.0015), tensor(0.0010), tensor(0.0016), tensor(0.0013), tensor(0.0010), tensor(0.0014), tensor(0.0016), tensor(0.0025), tensor(0.0029), tensor(0.0023), tensor(0.0013), tensor(0.0018), tensor(0.0019), tensor(0.0019), tensor(0.0017), tensor(0.0017), tensor(0.0012), tensor(0.0016), tensor(0.0017), tensor(0.0017), tensor(0.0014), tensor(0.0012), tensor(0.0024), tensor(0.0016), tensor(0.0014), tensor(0.0024), tensor(0.0013), tensor(0.0016), tensor(0.0012), tensor(0.0015), tensor(0.0011), tensor(0.0017), tensor(0.0009), tensor(0.0014), tensor(0.0016), tensor(0.0012), tensor(0.0028), tensor(0.0005), tensor(0.0009), tensor(0.0013), tensor(0.0021), tensor(0.0028), tensor(0.0011), tensor(0.0013), tensor(0.0027), tensor(0.0024), tensor(0.0014), tensor(0.0014), tensor(0.0020), tensor(0.0017), tensor(0.0011), tensor(0.0014), tensor(0.0023), tensor(0.0024), tensor(0.0012), tensor(0.0018), tensor(0.0006), tensor(0.0011), tensor(0.0015), tensor(0.0007), tensor(0.0014), tensor(0.0019), tensor(0.0016), tensor(0.0021), tensor(0.0024), tensor(0.0016), tensor(0.0021), tensor(0.0007), tensor(0.0023), tensor(0.0016), tensor(0.0016), tensor(0.0009), tensor(0.0016), tensor(0.0017), tensor(0.0021), tensor(0.0012), tensor(0.0018), tensor(0.0010), tensor(0.0029), tensor(0.0018), tensor(0.0010), tensor(0.0026), tensor(0.0037), tensor(0.0022), tensor(0.0015), tensor(0.0012), tensor(0.0009), tensor(0.0022), tensor(0.0034), tensor(0.0025), tensor(0.0024), tensor(0.0013), tensor(0.0022), tensor(0.0022), tensor(0.0015), tensor(0.0020), tensor(0.0014), tensor(0.0004), tensor(0.0005), tensor(0.0020), tensor(0.0013), tensor(0.0010), tensor(0.0017), tensor(0.0011), tensor(0.0012), tensor(0.0005), tensor(0.0014), tensor(0.0010), tensor(0.0022), tensor(0.0009), tensor(0.0005), tensor(0.0007), tensor(0.0030), tensor(0.0010), tensor(0.0022), tensor(0.0005), tensor(0.0021), tensor(0.0023), tensor(0.0010), tensor(0.0008), tensor(0.0020), tensor(0.0006), tensor(0.0009), tensor(0.0014), tensor(0.0019), tensor(0.0015), tensor(0.0011), tensor(0.0011), tensor(0.0015), tensor(0.0021), tensor(0.0002), tensor(0.0023), tensor(0.0013), tensor(0.0012), tensor(0.0012), tensor(0.0016), tensor(0.0011), tensor(0.0006), tensor(0.0030), tensor(0.0021), tensor(0.0004), tensor(0.0009), tensor(0.0013), tensor(0.0013), tensor(0.0016), tensor(0.0018), tensor(0.0013), tensor(0.0021), tensor(0.0006), tensor(0.0017), tensor(0.0019), tensor(0.0021), tensor(0.0013), tensor(0.0012), tensor(0.0033), tensor(0.0011), tensor(0.0014), tensor(0.0015), tensor(0.0012), tensor(0.0008), tensor(0.0017), tensor(0.0014), tensor(0.0008), tensor(0.0015), tensor(0.0020), tensor(0.0007), tensor(0.0013), tensor(0.0016), tensor(0.0010), tensor(0.0008), tensor(0.0021), tensor(0.0017), tensor(0.0008), tensor(0.0020), tensor(0.0011), tensor(0.0009), tensor(0.0024), tensor(0.0012), tensor(0.0023), tensor(0.0011), tensor(0.0011), tensor(0.0020), tensor(0.0015), tensor(0.0012), tensor(0.0011), tensor(0.0008), tensor(0.0018), tensor(0.0018), tensor(0.0008), tensor(0.0007), tensor(0.0006), tensor(0.0006), tensor(0.0019), tensor(0.0013), tensor(0.0013), tensor(0.0010), tensor(0.0006), tensor(0.0020), tensor(0.0016), tensor(0.0011), tensor(0.0014), tensor(0.0011), tensor(0.0030), tensor(0.0006), tensor(0.0023), tensor(0.0007), tensor(0.0022), tensor(0.0014), tensor(0.0015), tensor(0.0012), tensor(0.0010), tensor(0.0013), tensor(0.0017), tensor(0.0024), tensor(0.0012), tensor(0.0023), tensor(0.0009), tensor(0.0022), tensor(0.0023), tensor(0.0012), tensor(0.0013), tensor(0.0005), tensor(0.0014), tensor(0.0016), tensor(0.0024), tensor(0.0025), tensor(0.0015), tensor(0.0014), tensor(1.1921e-07), tensor(0.0016), tensor(0.0012), tensor(0.0004), tensor(0.0015), tensor(0.0016), tensor(0.0011), tensor(0.0011), tensor(0.0013), tensor(0.0007), tensor(0.0006), tensor(0.0016), tensor(0.0031), tensor(0.0026), tensor(0.0018), tensor(0.0016), tensor(0.0005), tensor(0.0018), tensor(0.0018), tensor(0.0018), tensor(0.0024), tensor(0.0016), tensor(0.0016), tensor(0.0022), tensor(0.0020), tensor(0.0010), tensor(0.0011), tensor(0.0018), tensor(0.0020), tensor(0.0025), tensor(0.0018), tensor(0.0004), tensor(0.0017), tensor(0.0008), tensor(0.0015), tensor(0.0015), tensor(0.0016), tensor(0.0010), tensor(0.0033), tensor(0.0024), tensor(0.0011), tensor(0.0012), tensor(0.0024), tensor(0.0013), tensor(0.0019), tensor(0.0006), tensor(0.0013), tensor(0.0008), tensor(0.0016), tensor(0.0017), tensor(0.0016), tensor(0.0015), tensor(0.0017), tensor(0.0029), tensor(0.0019), tensor(0.0008), tensor(0.0014), tensor(0.0026), tensor(0.0010), tensor(0.0010), tensor(0.0021), tensor(0.0018), tensor(0.0010), tensor(0.0022), tensor(0.0012), tensor(0.0018), tensor(0.0024), tensor(0.0015), tensor(0.0010), tensor(0.0006), tensor(0.0012), tensor(0.0018), tensor(0.0017), tensor(0.0009), tensor(0.0018), tensor(0.0013), tensor(0.0009), tensor(0.0010), tensor(0.0012), tensor(0.0008), tensor(0.0010), tensor(0.0014), tensor(0.0008), tensor(0.0015), tensor(0.0012), tensor(0.0014), tensor(0.0017), tensor(0.0025), tensor(0.0017), tensor(0.0012), tensor(0.0014), tensor(0.0013), tensor(0.0014), tensor(0.0009), tensor(0.0013), tensor(0.0009), tensor(0.0012), tensor(0.0011), tensor(0.0017), tensor(0.0015), tensor(0.0014), tensor(0.0023), tensor(0.0008), tensor(0.0013), tensor(0.0014), tensor(0.0007), tensor(0.0024), tensor(0.0011), tensor(0.0015), tensor(0.0019), tensor(0.0007), tensor(0.0014), tensor(0.0019), tensor(0.0006), tensor(0.0017), tensor(0.0013), tensor(0.0016), tensor(0.0016), tensor(0.0023), tensor(0.0020), tensor(0.0024), tensor(0.0017), tensor(0.0017), tensor(0.0018), tensor(0.0006), tensor(0.0023), tensor(0.0008), tensor(0.0023), tensor(0.0015), tensor(0.0006), tensor(0.0009), tensor(0.0007), tensor(0.0010), tensor(0.0030), tensor(0.0021), tensor(0.0005), tensor(0.0016), tensor(0.0007), tensor(0.0014), tensor(0.0013), tensor(0.0013), tensor(0.0008), tensor(0.0018), tensor(0.0025), tensor(0.0004), tensor(0.0004), tensor(0.0017), tensor(0.0009), tensor(0.0007), tensor(0.0006), tensor(0.0009), tensor(0.0013), tensor(0.0009), tensor(0.0013), tensor(0.0013), tensor(0.0009), tensor(0.0012), tensor(0.0013), tensor(0.0021), tensor(0.0025), tensor(0.0020), tensor(0.0012), tensor(0.0016), tensor(0.0016), tensor(0.0017), tensor(0.0016), tensor(0.0015), tensor(0.0011), tensor(0.0015), tensor(0.0015), tensor(0.0014), tensor(0.0012), tensor(0.0011), tensor(0.0022), tensor(0.0014), tensor(0.0012), tensor(0.0021), tensor(0.0011), tensor(0.0014), tensor(0.0010), tensor(0.0014), tensor(0.0009), tensor(0.0015), tensor(0.0008), tensor(0.0012), tensor(0.0014), tensor(0.0010), tensor(0.0024), tensor(0.0004), tensor(0.0008), tensor(0.0011), tensor(0.0019), tensor(0.0023), tensor(0.0010), tensor(0.0011), tensor(0.0024), tensor(0.0020), tensor(0.0013), tensor(0.0012), tensor(0.0017), tensor(0.0015), tensor(0.0009), tensor(0.0013), tensor(0.0020), tensor(0.0021), tensor(0.0010), tensor(0.0016), tensor(0.0006), tensor(0.0009), tensor(0.0014), tensor(0.0006), tensor(0.0012), tensor(0.0017), tensor(0.0014), tensor(0.0019), tensor(0.0022), tensor(0.0014), tensor(0.0018), tensor(0.0006), tensor(0.0019), tensor(0.0014), tensor(0.0014), tensor(0.0007), tensor(0.0014), tensor(0.0014), tensor(0.0019), tensor(0.0011), tensor(0.0016), tensor(0.0008), tensor(0.0024), tensor(0.0016), tensor(0.0008), tensor(0.0021), tensor(0.0030), tensor(0.0020), tensor(0.0013), tensor(0.0010), tensor(0.0008), tensor(0.0019), tensor(0.0029), tensor(0.0019), tensor(0.0021), tensor(0.0012), tensor(0.0019), tensor(0.0018), tensor(0.0012), tensor(0.0017), tensor(0.0012), tensor(0.0003), tensor(0.0004), tensor(0.0018), tensor(0.0011), tensor(0.0009), tensor(0.0014), tensor(0.0010), tensor(0.0010), tensor(0.0004), tensor(0.0011), tensor(0.0008), tensor(0.0018), tensor(0.0008), tensor(0.0004), tensor(0.0006), tensor(0.0025), tensor(0.0009), tensor(0.0018), tensor(0.0004), tensor(0.0018), tensor(0.0020), tensor(0.0010), tensor(0.0007), tensor(0.0019), tensor(0.0005), tensor(0.0008), tensor(0.0013), tensor(0.0016), tensor(0.0014), tensor(0.0010), tensor(0.0010), tensor(0.0013), tensor(0.0021), tensor(0.0001), tensor(0.0019), tensor(0.0010), tensor(0.0010), tensor(0.0010), tensor(0.0013), tensor(0.0009), tensor(0.0006), tensor(0.0027), tensor(0.0019), tensor(0.0003), tensor(0.0008), tensor(0.0011), tensor(0.0012), tensor(0.0014), tensor(0.0014), tensor(0.0011), tensor(0.0016), tensor(0.0006), tensor(0.0016), tensor(0.0015), tensor(0.0018), tensor(0.0012), tensor(0.0010), tensor(0.0030), tensor(0.0010), tensor(0.0012), tensor(0.0013), tensor(0.0010), tensor(0.0008), tensor(0.0014), tensor(0.0012), tensor(0.0007), tensor(0.0014), tensor(0.0018), tensor(0.0007), tensor(0.0012), tensor(0.0014), tensor(0.0008), tensor(0.0008), tensor(0.0018), tensor(0.0015), tensor(0.0007), tensor(0.0019), tensor(0.0009), tensor(0.0008), tensor(0.0019), tensor(0.0010), tensor(0.0020), tensor(0.0009), tensor(0.0010), tensor(0.0017), tensor(0.0015), tensor(0.0011), tensor(0.0010), tensor(0.0007), tensor(0.0015), tensor(0.0015), tensor(0.0007), tensor(0.0006), tensor(0.0005), tensor(0.0005), tensor(0.0016), tensor(0.0010), tensor(0.0011), tensor(0.0009), tensor(0.0004), tensor(0.0016), tensor(0.0014), tensor(0.0010), tensor(0.0011), tensor(0.0009), tensor(0.0024), tensor(0.0005), tensor(0.0020), tensor(0.0006), tensor(0.0019), tensor(0.0012), tensor(0.0013), tensor(0.0011), tensor(0.0009), tensor(0.0012), tensor(0.0014), tensor(0.0022), tensor(0.0010), tensor(0.0021), tensor(0.0007), tensor(0.0020), tensor(0.0020), tensor(0.0010), tensor(0.0011), tensor(0.0004), tensor(0.0012), tensor(0.0014), tensor(0.0020), tensor(0.0023), tensor(0.0013), tensor(0.0012), tensor(0.)]\n"
          ]
        },
        {
          "output_type": "display_data",
          "data": {
            "image/png": "[encoded data removed]",
            "text/plain": [
              "<Figure size 432x288 with 1 Axes>"
            ]
          },
          "metadata": {
            "needs_background": "light"
          }
        }
      ],
      "source": [
        "import matplotlib.pyplot as plt\n",
        "print(losses)\n",
        "plt.plot(range(len(losses)), losses)\n",
        "plt.title(\"Training Loss over Time\")\n",
        "plt.show()"
      ]
    },
    {
      "cell_type": "markdown",
      "metadata": {
        "id": "nAW6FujgeUOb"
      },
      "source": [
        "# Deliverable 3. BoW vs. CNN.\n",
        "\n",
        "Compare and contrast the performance of your BoW representation and CNN. Did one model demonstrate a higher dev performance than the other? What do you see as the advantages of one model over the other that might lead to this performance difference on this data? Submit your <200 word answer to this question as a PDF on gradescope."
      ]
    },
    {
      "cell_type": "markdown",
      "source": [
        ""
      ],
      "metadata": {
        "id": "Xs52RPDBM5sa"
      }
    },
    {
      "cell_type": "code",
      "execution_count": null,
      "metadata": {
        "id": "GjQCNmnW_1nh"
      },
      "outputs": [],
      "source": [
        ""
      ]
    }
  ],
  "metadata": {
    "accelerator": "GPU",
    "colab": {
      "collapsed_sections": [],
      "name": "HW_3.ipynb",
      "provenance": []
    },
    "kernelspec": {
      "display_name": "Python 3",
      "language": "python",
      "name": "python3"
    },
    "language_info": {
      "codemirror_mode": {
        "name": "ipython",
        "version": 3
      },
      "file_extension": ".py",
      "mimetype": "text/x-python",
      "name": "python",
      "nbconvert_exporter": "python",
      "pygments_lexer": "ipython3",
      "version": "3.9.1"
    }
  },
  "nbformat": 4,
  "nbformat_minor": 0
}